{
  "cells": [
    {
      "cell_type": "markdown",
      "metadata": {
        "id": "view-in-github",
        "colab_type": "text"
      },
      "source": [
        "<a href=\"https://colab.research.google.com/github/pedrov718/classifying_mental_health_with_NN/blob/main/nueral_network_classifyer.ipynb\" target=\"_parent\"><img src=\"https://colab.research.google.com/assets/colab-badge.svg\" alt=\"Open In Colab\"/></a>"
      ]
    },
    {
      "cell_type": "code",
      "execution_count": 1,
      "metadata": {
        "id": "6Ju4VJA66aPY"
      },
      "outputs": [],
      "source": [
        "import numpy as np\n",
        "import pandas as pd\n",
        "import matplotlib.pyplot as plt\n",
        "import tensorflow as tf\n",
        "import tensorflow_hub as hub\n",
        "from sklearn.model_selection import cross_val_score\n",
        "from sklearn.model_selection import KFold\n",
        "from tensorflow.keras.layers import Flatten\n",
        "from sklearn.preprocessing import LabelEncoder\n",
        "from sklearn.pipeline import Pipeline\n",
        "from keras.utils import np_utils\n",
        "from sklearn import preprocessing"
      ]
    },
    {
      "cell_type": "code",
      "execution_count": 2,
      "metadata": {
        "id": "JloCS_004br_"
      },
      "outputs": [],
      "source": [
        "posts = pd.read_excel(\"/content/mental_health_posts_scraped.xlsx\", index_col= 'Unnamed: 0')"
      ]
    },
    {
      "cell_type": "code",
      "execution_count": 3,
      "metadata": {
        "id": "NqrczMSPCThY"
      },
      "outputs": [],
      "source": [
        "posts.rename(columns = {\"Origin\":'label'}, inplace = True)"
      ]
    },
    {
      "cell_type": "code",
      "execution_count": 4,
      "metadata": {
        "id": "yd5CNCOquxEs"
      },
      "outputs": [],
      "source": [
        "labels = pd.get_dummies(posts.label, drop_first= False)"
      ]
    },
    {
      "cell_type": "code",
      "execution_count": 5,
      "metadata": {
        "id": "U22to7EZvCIq"
      },
      "outputs": [],
      "source": [
        "posts = posts.join(labels)"
      ]
    },
    {
      "cell_type": "code",
      "execution_count": 6,
      "metadata": {
        "colab": {
          "base_uri": "https://localhost:8080/",
          "height": 194
        },
        "id": "eqpNTlqrv2js",
        "outputId": "ef1cc4d1-af62-4a6f-f82a-5b357b3d6456"
      },
      "outputs": [
        {
          "output_type": "execute_result",
          "data": {
            "text/plain": [
              "                  Title                                          Post Text  \\\n",
              "18415  PLEASE BE HONEST  Okay r/schizophrenia, I have an English projec...   \n",
              "\n",
              "           ID  Score  Total Comments          label  \\\n",
              "18415  5sgzs0      0               2  schizophrenia   \n",
              "\n",
              "                                                Post URL  \\\n",
              "18415  https://www.reddit.com/r/schizophrenia/comment...   \n",
              "\n",
              "                                                    text  Anxiety  BPD  \\\n",
              "18415  PLEASE BE HONESTOkay r/schizophrenia, I have a...        0    0   \n",
              "\n",
              "       autism  bipolar  depression  schizophrenia  \n",
              "18415       0        0           0              1  "
            ],
            "text/html": [
              "\n",
              "  <div id=\"df-3b287ae9-dd99-4e05-9d6b-30e403e97a22\">\n",
              "    <div class=\"colab-df-container\">\n",
              "      <div>\n",
              "<style scoped>\n",
              "    .dataframe tbody tr th:only-of-type {\n",
              "        vertical-align: middle;\n",
              "    }\n",
              "\n",
              "    .dataframe tbody tr th {\n",
              "        vertical-align: top;\n",
              "    }\n",
              "\n",
              "    .dataframe thead th {\n",
              "        text-align: right;\n",
              "    }\n",
              "</style>\n",
              "<table border=\"1\" class=\"dataframe\">\n",
              "  <thead>\n",
              "    <tr style=\"text-align: right;\">\n",
              "      <th></th>\n",
              "      <th>Title</th>\n",
              "      <th>Post Text</th>\n",
              "      <th>ID</th>\n",
              "      <th>Score</th>\n",
              "      <th>Total Comments</th>\n",
              "      <th>label</th>\n",
              "      <th>Post URL</th>\n",
              "      <th>text</th>\n",
              "      <th>Anxiety</th>\n",
              "      <th>BPD</th>\n",
              "      <th>autism</th>\n",
              "      <th>bipolar</th>\n",
              "      <th>depression</th>\n",
              "      <th>schizophrenia</th>\n",
              "    </tr>\n",
              "  </thead>\n",
              "  <tbody>\n",
              "    <tr>\n",
              "      <th>18415</th>\n",
              "      <td>PLEASE BE HONEST</td>\n",
              "      <td>Okay r/schizophrenia, I have an English projec...</td>\n",
              "      <td>5sgzs0</td>\n",
              "      <td>0</td>\n",
              "      <td>2</td>\n",
              "      <td>schizophrenia</td>\n",
              "      <td>https://www.reddit.com/r/schizophrenia/comment...</td>\n",
              "      <td>PLEASE BE HONESTOkay r/schizophrenia, I have a...</td>\n",
              "      <td>0</td>\n",
              "      <td>0</td>\n",
              "      <td>0</td>\n",
              "      <td>0</td>\n",
              "      <td>0</td>\n",
              "      <td>1</td>\n",
              "    </tr>\n",
              "  </tbody>\n",
              "</table>\n",
              "</div>\n",
              "      <button class=\"colab-df-convert\" onclick=\"convertToInteractive('df-3b287ae9-dd99-4e05-9d6b-30e403e97a22')\"\n",
              "              title=\"Convert this dataframe to an interactive table.\"\n",
              "              style=\"display:none;\">\n",
              "        \n",
              "  <svg xmlns=\"http://www.w3.org/2000/svg\" height=\"24px\"viewBox=\"0 0 24 24\"\n",
              "       width=\"24px\">\n",
              "    <path d=\"M0 0h24v24H0V0z\" fill=\"none\"/>\n",
              "    <path d=\"M18.56 5.44l.94 2.06.94-2.06 2.06-.94-2.06-.94-.94-2.06-.94 2.06-2.06.94zm-11 1L8.5 8.5l.94-2.06 2.06-.94-2.06-.94L8.5 2.5l-.94 2.06-2.06.94zm10 10l.94 2.06.94-2.06 2.06-.94-2.06-.94-.94-2.06-.94 2.06-2.06.94z\"/><path d=\"M17.41 7.96l-1.37-1.37c-.4-.4-.92-.59-1.43-.59-.52 0-1.04.2-1.43.59L10.3 9.45l-7.72 7.72c-.78.78-.78 2.05 0 2.83L4 21.41c.39.39.9.59 1.41.59.51 0 1.02-.2 1.41-.59l7.78-7.78 2.81-2.81c.8-.78.8-2.07 0-2.86zM5.41 20L4 18.59l7.72-7.72 1.47 1.35L5.41 20z\"/>\n",
              "  </svg>\n",
              "      </button>\n",
              "      \n",
              "  <style>\n",
              "    .colab-df-container {\n",
              "      display:flex;\n",
              "      flex-wrap:wrap;\n",
              "      gap: 12px;\n",
              "    }\n",
              "\n",
              "    .colab-df-convert {\n",
              "      background-color: #E8F0FE;\n",
              "      border: none;\n",
              "      border-radius: 50%;\n",
              "      cursor: pointer;\n",
              "      display: none;\n",
              "      fill: #1967D2;\n",
              "      height: 32px;\n",
              "      padding: 0 0 0 0;\n",
              "      width: 32px;\n",
              "    }\n",
              "\n",
              "    .colab-df-convert:hover {\n",
              "      background-color: #E2EBFA;\n",
              "      box-shadow: 0px 1px 2px rgba(60, 64, 67, 0.3), 0px 1px 3px 1px rgba(60, 64, 67, 0.15);\n",
              "      fill: #174EA6;\n",
              "    }\n",
              "\n",
              "    [theme=dark] .colab-df-convert {\n",
              "      background-color: #3B4455;\n",
              "      fill: #D2E3FC;\n",
              "    }\n",
              "\n",
              "    [theme=dark] .colab-df-convert:hover {\n",
              "      background-color: #434B5C;\n",
              "      box-shadow: 0px 1px 3px 1px rgba(0, 0, 0, 0.15);\n",
              "      filter: drop-shadow(0px 1px 2px rgba(0, 0, 0, 0.3));\n",
              "      fill: #FFFFFF;\n",
              "    }\n",
              "  </style>\n",
              "\n",
              "      <script>\n",
              "        const buttonEl =\n",
              "          document.querySelector('#df-3b287ae9-dd99-4e05-9d6b-30e403e97a22 button.colab-df-convert');\n",
              "        buttonEl.style.display =\n",
              "          google.colab.kernel.accessAllowed ? 'block' : 'none';\n",
              "\n",
              "        async function convertToInteractive(key) {\n",
              "          const element = document.querySelector('#df-3b287ae9-dd99-4e05-9d6b-30e403e97a22');\n",
              "          const dataTable =\n",
              "            await google.colab.kernel.invokeFunction('convertToInteractive',\n",
              "                                                     [key], {});\n",
              "          if (!dataTable) return;\n",
              "\n",
              "          const docLinkHtml = 'Like what you see? Visit the ' +\n",
              "            '<a target=\"_blank\" href=https://colab.research.google.com/notebooks/data_table.ipynb>data table notebook</a>'\n",
              "            + ' to learn more about interactive tables.';\n",
              "          element.innerHTML = '';\n",
              "          dataTable['output_type'] = 'display_data';\n",
              "          await google.colab.output.renderOutput(dataTable, element);\n",
              "          const docLink = document.createElement('div');\n",
              "          docLink.innerHTML = docLinkHtml;\n",
              "          element.appendChild(docLink);\n",
              "        }\n",
              "      </script>\n",
              "    </div>\n",
              "  </div>\n",
              "  "
            ]
          },
          "metadata": {},
          "execution_count": 6
        }
      ],
      "source": [
        "posts.sample(1)"
      ]
    },
    {
      "cell_type": "code",
      "execution_count": 7,
      "metadata": {
        "colab": {
          "base_uri": "https://localhost:8080/"
        },
        "id": "2YM0bTuIv7Bm",
        "outputId": "959f986f-37ff-42fa-d42c-05244965490a"
      },
      "outputs": [
        {
          "output_type": "execute_result",
          "data": {
            "text/plain": [
              "array(['text', 'Anxiety', 'BPD', 'autism', 'bipolar', 'depression',\n",
              "       'schizophrenia'], dtype=object)"
            ]
          },
          "metadata": {},
          "execution_count": 7
        }
      ],
      "source": [
        "posts.columns[7:].values"
      ]
    },
    {
      "cell_type": "code",
      "execution_count": 8,
      "metadata": {
        "id": "ScywvBndv-EL"
      },
      "outputs": [],
      "source": [
        "df = posts[posts.columns[7:].values]"
      ]
    },
    {
      "cell_type": "code",
      "execution_count": 9,
      "metadata": {
        "colab": {
          "base_uri": "https://localhost:8080/"
        },
        "id": "UdDE_Qk_D1dX",
        "outputId": "f2c978a3-cbfc-45a6-b213-d3f86d76d53b"
      },
      "outputs": [
        {
          "output_type": "execute_result",
          "data": {
            "text/plain": [
              "Anxiety          3119\n",
              "BPD              3260\n",
              "autism           3444\n",
              "bipolar          3272\n",
              "depression       3301\n",
              "schizophrenia    3291\n",
              "dtype: int64"
            ]
          },
          "metadata": {},
          "execution_count": 9
        }
      ],
      "source": [
        "df[posts.columns[8:].values].sum()"
      ]
    },
    {
      "cell_type": "code",
      "execution_count": 10,
      "metadata": {
        "id": "K4fhT3B3CwnP"
      },
      "outputs": [],
      "source": [
        "train, val, test = np.split(df.sample(frac=1), [int(0.8*len(df)), int(0.9*len(df))])"
      ]
    },
    {
      "cell_type": "code",
      "execution_count": 11,
      "metadata": {
        "id": "-D3zpoxrC78k"
      },
      "outputs": [],
      "source": [
        "def df_to_dataset(dataframe, shuffle=True, batch_size=512):\n",
        "  df = dataframe.copy()\n",
        "  labels = df[posts.columns[8:].values]\n",
        "  df = df[\"text\"]\n",
        "  ds = tf.data.Dataset.from_tensor_slices((df, labels))\n",
        "  if shuffle:\n",
        "    ds = ds.shuffle(buffer_size=len(dataframe))\n",
        "  ds = ds.batch(batch_size)\n",
        "  ds = ds.prefetch(tf.data.AUTOTUNE)\n",
        "  return ds"
      ]
    },
    {
      "cell_type": "code",
      "execution_count": 12,
      "metadata": {
        "id": "S7yFbsNMC9qS"
      },
      "outputs": [],
      "source": [
        "train_data = df_to_dataset(train)\n",
        "valid_data = df_to_dataset(val)\n",
        "test_data = df_to_dataset(test)"
      ]
    },
    {
      "cell_type": "markdown",
      "metadata": {
        "id": "wh_oJLmHDYiw"
      },
      "source": [
        "## Embedding our corpus with a pretrained TF HUB model"
      ]
    },
    {
      "cell_type": "code",
      "execution_count": 35,
      "metadata": {
        "id": "OTLMNadSDamD"
      },
      "outputs": [],
      "source": [
        "embedding = \"https://tfhub.dev/google/nnlm-en-dim50/2\"\n",
        "hub_layer = hub.KerasLayer(embedding, dtype=tf.string, trainable=True)"
      ]
    },
    {
      "cell_type": "code",
      "execution_count": 36,
      "metadata": {
        "colab": {
          "base_uri": "https://localhost:8080/"
        },
        "id": "xVfoPYA5DgSK",
        "outputId": "677051ab-c636-43e8-9162-39bb5eb9e632"
      },
      "outputs": [
        {
          "output_type": "execute_result",
          "data": {
            "text/plain": [
              "<tf.Tensor: shape=(512, 50), dtype=float32, numpy=\n",
              "array([[ 1.4431262 , -0.17821333, -0.59724873, ..., -0.79739237,\n",
              "         0.0896387 , -0.20190561],\n",
              "       [ 0.51712453,  0.16922396, -0.18801749, ..., -0.3510356 ,\n",
              "        -0.2852852 , -0.03374095],\n",
              "       [ 0.07202606,  0.01054991, -0.11568081, ..., -0.096197  ,\n",
              "        -0.0604799 , -0.01286972],\n",
              "       ...,\n",
              "       [ 0.51088035, -0.08258942, -0.0661604 , ..., -0.3191115 ,\n",
              "         0.10510099, -0.15100189],\n",
              "       [ 0.41241935, -0.07515784, -0.12606712, ..., -0.25928864,\n",
              "        -0.10066891,  0.07335939],\n",
              "       [ 2.0929747 ,  0.60047317,  0.7549739 , ..., -0.04339394,\n",
              "         1.0225626 ,  1.0369064 ]], dtype=float32)>"
            ]
          },
          "metadata": {},
          "execution_count": 36
        }
      ],
      "source": [
        "hub_layer(list(train_data)[0][0])"
      ]
    },
    {
      "cell_type": "markdown",
      "metadata": {
        "id": "R-C7kCzaTYeI"
      },
      "source": [
        "## Creating our word embedded Model"
      ]
    },
    {
      "cell_type": "code",
      "execution_count": 37,
      "metadata": {
        "id": "erQViavJDim1"
      },
      "outputs": [],
      "source": [
        "seq_model = tf.keras.Sequential()\n",
        "seq_model.add(hub_layer)\n",
        "seq_model.add(tf.keras.layers.Dense(64, activation='relu'))\n",
        "seq_model.add(tf.keras.layers.Dropout(0.4))\n",
        "seq_model.add(tf.keras.layers.Dense(32, activation='relu'))\n",
        "seq_model.add(tf.keras.layers.Dropout(0.4))\n",
        "seq_model.add(tf.keras.layers.Dense(16, activation='relu'))\n",
        "seq_model.add(tf.keras.layers.Dropout(0.4))\n",
        "seq_model.add(tf.keras.layers.Dense(6, activation='sigmoid'))"
      ]
    },
    {
      "cell_type": "code",
      "execution_count": 38,
      "metadata": {
        "id": "cWa1bcieEA7v"
      },
      "outputs": [],
      "source": [
        "seq_model.compile(optimizer=tf.keras.optimizers.Adam(learning_rate=0.001),\n",
        "              loss = tf.keras.losses.CategoricalCrossentropy(), #loss=tf.keras.losses.BinaryCrossentropy(),\n",
        "              metrics=['accuracy'])"
      ]
    },
    {
      "cell_type": "code",
      "execution_count": 39,
      "metadata": {
        "colab": {
          "base_uri": "https://localhost:8080/"
        },
        "id": "_kdN2ApIBpr-",
        "outputId": "66f7ce73-d1eb-4a50-a284-5f79a01a1923"
      },
      "outputs": [
        {
          "output_type": "stream",
          "name": "stdout",
          "text": [
            "31/31 [==============================] - 1s 21ms/step - loss: 1.8238 - accuracy: 0.1639\n"
          ]
        },
        {
          "output_type": "execute_result",
          "data": {
            "text/plain": [
              "[1.8238054513931274, 0.16388341784477234]"
            ]
          },
          "metadata": {},
          "execution_count": 39
        }
      ],
      "source": [
        "seq_model.evaluate(train_data)"
      ]
    },
    {
      "cell_type": "code",
      "execution_count": 40,
      "metadata": {
        "colab": {
          "base_uri": "https://localhost:8080/"
        },
        "id": "t_NNEWxLB0No",
        "outputId": "5e0f16f9-a7ce-4bda-8c30-c37c301574d0"
      },
      "outputs": [
        {
          "output_type": "stream",
          "name": "stdout",
          "text": [
            "4/4 [==============================] - 0s 23ms/step - loss: 1.8324 - accuracy: 0.1519\n"
          ]
        },
        {
          "output_type": "execute_result",
          "data": {
            "text/plain": [
              "[1.8323692083358765, 0.1518537402153015]"
            ]
          },
          "metadata": {},
          "execution_count": 40
        }
      ],
      "source": [
        "seq_model.evaluate(valid_data)"
      ]
    },
    {
      "cell_type": "code",
      "execution_count": 41,
      "metadata": {
        "id": "Y9zCKGX96TeI"
      },
      "outputs": [],
      "source": [
        "callback = tf.keras.callbacks.EarlyStopping(monitor='loss', patience=10, restore_best_weights= True)"
      ]
    },
    {
      "cell_type": "code",
      "execution_count": 42,
      "metadata": {
        "colab": {
          "base_uri": "https://localhost:8080/"
        },
        "id": "eIbkIwoPB1uw",
        "outputId": "bdffe26c-2c24-4a3f-c132-d361d5fd070b"
      },
      "outputs": [
        {
          "output_type": "stream",
          "name": "stdout",
          "text": [
            "Epoch 1/1000\n",
            "31/31 [==============================] - 20s 603ms/step - loss: 1.8047 - accuracy: 0.1871 - val_loss: 1.7760 - val_accuracy: 0.2280\n",
            "Epoch 2/1000\n",
            "31/31 [==============================] - 18s 562ms/step - loss: 1.7763 - accuracy: 0.2112 - val_loss: 1.7587 - val_accuracy: 0.2616\n",
            "Epoch 3/1000\n",
            "31/31 [==============================] - 18s 553ms/step - loss: 1.7562 - accuracy: 0.2386 - val_loss: 1.7286 - val_accuracy: 0.2829\n",
            "Epoch 4/1000\n",
            "31/31 [==============================] - 18s 576ms/step - loss: 1.7234 - accuracy: 0.2609 - val_loss: 1.6741 - val_accuracy: 0.3195\n",
            "Epoch 5/1000\n",
            "31/31 [==============================] - 17s 559ms/step - loss: 1.6638 - accuracy: 0.2867 - val_loss: 1.5864 - val_accuracy: 0.3687\n",
            "Epoch 6/1000\n",
            "31/31 [==============================] - 17s 561ms/step - loss: 1.5759 - accuracy: 0.3321 - val_loss: 1.4847 - val_accuracy: 0.4043\n",
            "Epoch 7/1000\n",
            "31/31 [==============================] - 18s 598ms/step - loss: 1.4635 - accuracy: 0.3843 - val_loss: 1.3914 - val_accuracy: 0.4241\n",
            "Epoch 8/1000\n",
            "31/31 [==============================] - 17s 556ms/step - loss: 1.3403 - accuracy: 0.4384 - val_loss: 1.3022 - val_accuracy: 0.4683\n",
            "Epoch 9/1000\n",
            "31/31 [==============================] - 17s 556ms/step - loss: 1.2194 - accuracy: 0.5000 - val_loss: 1.2385 - val_accuracy: 0.5053\n",
            "Epoch 10/1000\n",
            "31/31 [==============================] - 17s 547ms/step - loss: 1.0863 - accuracy: 0.5531 - val_loss: 1.2102 - val_accuracy: 0.5246\n",
            "Epoch 11/1000\n",
            "31/31 [==============================] - 19s 601ms/step - loss: 0.9907 - accuracy: 0.5929 - val_loss: 1.2137 - val_accuracy: 0.5419\n",
            "Epoch 12/1000\n",
            "31/31 [==============================] - 17s 543ms/step - loss: 0.8985 - accuracy: 0.6388 - val_loss: 1.2311 - val_accuracy: 0.5566\n",
            "Epoch 13/1000\n",
            "31/31 [==============================] - 17s 542ms/step - loss: 0.8144 - accuracy: 0.6667 - val_loss: 1.2665 - val_accuracy: 0.5637\n",
            "Epoch 14/1000\n",
            "31/31 [==============================] - 20s 648ms/step - loss: 0.7386 - accuracy: 0.6985 - val_loss: 1.3207 - val_accuracy: 0.5673\n",
            "Epoch 15/1000\n",
            "31/31 [==============================] - 20s 611ms/step - loss: 0.6786 - accuracy: 0.7217 - val_loss: 1.3730 - val_accuracy: 0.5790\n",
            "Epoch 16/1000\n",
            "31/31 [==============================] - 17s 548ms/step - loss: 0.6309 - accuracy: 0.7406 - val_loss: 1.4148 - val_accuracy: 0.5820\n",
            "Epoch 17/1000\n",
            "31/31 [==============================] - 18s 579ms/step - loss: 0.5755 - accuracy: 0.7707 - val_loss: 1.5079 - val_accuracy: 0.5978\n",
            "Epoch 18/1000\n",
            "31/31 [==============================] - 17s 549ms/step - loss: 0.5464 - accuracy: 0.7757 - val_loss: 1.5889 - val_accuracy: 0.5973\n",
            "Epoch 19/1000\n",
            "31/31 [==============================] - 17s 550ms/step - loss: 0.5145 - accuracy: 0.7957 - val_loss: 1.6826 - val_accuracy: 0.5957\n",
            "Epoch 20/1000\n",
            "31/31 [==============================] - 17s 547ms/step - loss: 0.4876 - accuracy: 0.8068 - val_loss: 1.7411 - val_accuracy: 0.6013\n",
            "Epoch 21/1000\n",
            "31/31 [==============================] - 17s 539ms/step - loss: 0.4615 - accuracy: 0.8174 - val_loss: 1.7945 - val_accuracy: 0.6054\n",
            "Epoch 22/1000\n",
            "31/31 [==============================] - 17s 539ms/step - loss: 0.4369 - accuracy: 0.8302 - val_loss: 1.8816 - val_accuracy: 0.6094\n",
            "Epoch 23/1000\n",
            "31/31 [==============================] - 16s 533ms/step - loss: 0.4077 - accuracy: 0.8456 - val_loss: 1.9367 - val_accuracy: 0.6166\n",
            "Epoch 24/1000\n",
            "31/31 [==============================] - 17s 558ms/step - loss: 0.3875 - accuracy: 0.8519 - val_loss: 2.0119 - val_accuracy: 0.6191\n",
            "Epoch 25/1000\n",
            "31/31 [==============================] - 16s 529ms/step - loss: 0.3672 - accuracy: 0.8607 - val_loss: 2.1108 - val_accuracy: 0.6211\n",
            "Epoch 26/1000\n",
            "31/31 [==============================] - 17s 534ms/step - loss: 0.3407 - accuracy: 0.8784 - val_loss: 2.1636 - val_accuracy: 0.6267\n",
            "Epoch 27/1000\n",
            "31/31 [==============================] - 16s 517ms/step - loss: 0.3260 - accuracy: 0.8848 - val_loss: 2.1738 - val_accuracy: 0.6272\n",
            "Epoch 28/1000\n",
            "31/31 [==============================] - 17s 536ms/step - loss: 0.3071 - accuracy: 0.8963 - val_loss: 2.3195 - val_accuracy: 0.6237\n",
            "Epoch 29/1000\n",
            "31/31 [==============================] - 16s 517ms/step - loss: 0.2935 - accuracy: 0.8980 - val_loss: 2.3944 - val_accuracy: 0.6232\n",
            "Epoch 30/1000\n",
            "31/31 [==============================] - 17s 537ms/step - loss: 0.2781 - accuracy: 0.9093 - val_loss: 2.4515 - val_accuracy: 0.6282\n",
            "Epoch 31/1000\n",
            "31/31 [==============================] - 17s 536ms/step - loss: 0.2585 - accuracy: 0.9166 - val_loss: 2.5010 - val_accuracy: 0.6313\n",
            "Epoch 32/1000\n",
            "31/31 [==============================] - 16s 515ms/step - loss: 0.2409 - accuracy: 0.9215 - val_loss: 2.6297 - val_accuracy: 0.6399\n",
            "Epoch 33/1000\n",
            "31/31 [==============================] - 16s 530ms/step - loss: 0.2380 - accuracy: 0.9222 - val_loss: 2.6892 - val_accuracy: 0.6369\n",
            "Epoch 34/1000\n",
            "31/31 [==============================] - 17s 533ms/step - loss: 0.2312 - accuracy: 0.9274 - val_loss: 2.7450 - val_accuracy: 0.6369\n",
            "Epoch 35/1000\n",
            "31/31 [==============================] - 16s 519ms/step - loss: 0.2120 - accuracy: 0.9318 - val_loss: 2.7928 - val_accuracy: 0.6374\n",
            "Epoch 36/1000\n",
            "31/31 [==============================] - 17s 558ms/step - loss: 0.2093 - accuracy: 0.9335 - val_loss: 2.8371 - val_accuracy: 0.6399\n",
            "Epoch 37/1000\n",
            "31/31 [==============================] - 16s 531ms/step - loss: 0.1983 - accuracy: 0.9393 - val_loss: 2.9176 - val_accuracy: 0.6384\n",
            "Epoch 38/1000\n",
            "31/31 [==============================] - 16s 530ms/step - loss: 0.1873 - accuracy: 0.9409 - val_loss: 3.0126 - val_accuracy: 0.6359\n",
            "Epoch 39/1000\n",
            "31/31 [==============================] - 16s 528ms/step - loss: 0.1901 - accuracy: 0.9389 - val_loss: 3.0416 - val_accuracy: 0.6394\n",
            "Epoch 40/1000\n",
            "31/31 [==============================] - 16s 530ms/step - loss: 0.1705 - accuracy: 0.9465 - val_loss: 3.2204 - val_accuracy: 0.6379\n",
            "Epoch 41/1000\n",
            "31/31 [==============================] - 17s 533ms/step - loss: 0.1665 - accuracy: 0.9465 - val_loss: 3.3982 - val_accuracy: 0.6359\n",
            "Epoch 42/1000\n",
            "31/31 [==============================] - 16s 522ms/step - loss: 0.1597 - accuracy: 0.9469 - val_loss: 3.2829 - val_accuracy: 0.6353\n",
            "Epoch 43/1000\n",
            "31/31 [==============================] - 20s 647ms/step - loss: 0.1560 - accuracy: 0.9505 - val_loss: 3.3973 - val_accuracy: 0.6359\n",
            "Epoch 44/1000\n",
            "31/31 [==============================] - 17s 561ms/step - loss: 0.1602 - accuracy: 0.9489 - val_loss: 3.4154 - val_accuracy: 0.6374\n",
            "Epoch 45/1000\n",
            "31/31 [==============================] - 17s 559ms/step - loss: 0.1536 - accuracy: 0.9526 - val_loss: 3.4982 - val_accuracy: 0.6323\n",
            "Epoch 46/1000\n",
            "31/31 [==============================] - 17s 536ms/step - loss: 0.1557 - accuracy: 0.9493 - val_loss: 3.6129 - val_accuracy: 0.6323\n",
            "Epoch 47/1000\n",
            "31/31 [==============================] - 17s 533ms/step - loss: 0.1435 - accuracy: 0.9533 - val_loss: 3.6608 - val_accuracy: 0.6364\n",
            "Epoch 48/1000\n",
            "31/31 [==============================] - 17s 555ms/step - loss: 0.1373 - accuracy: 0.9581 - val_loss: 3.7765 - val_accuracy: 0.6374\n",
            "Epoch 49/1000\n",
            "31/31 [==============================] - 18s 567ms/step - loss: 0.1369 - accuracy: 0.9540 - val_loss: 3.9596 - val_accuracy: 0.6343\n",
            "Epoch 50/1000\n",
            "31/31 [==============================] - 17s 553ms/step - loss: 0.1336 - accuracy: 0.9569 - val_loss: 3.9126 - val_accuracy: 0.6333\n",
            "Epoch 51/1000\n",
            "31/31 [==============================] - 16s 531ms/step - loss: 0.1342 - accuracy: 0.9571 - val_loss: 4.0529 - val_accuracy: 0.6262\n",
            "Epoch 52/1000\n",
            "31/31 [==============================] - 16s 530ms/step - loss: 0.1361 - accuracy: 0.9573 - val_loss: 4.0640 - val_accuracy: 0.6384\n",
            "Epoch 53/1000\n",
            "31/31 [==============================] - 17s 535ms/step - loss: 0.1327 - accuracy: 0.9575 - val_loss: 4.1798 - val_accuracy: 0.6303\n",
            "Epoch 54/1000\n",
            "31/31 [==============================] - 17s 533ms/step - loss: 0.1366 - accuracy: 0.9566 - val_loss: 4.0606 - val_accuracy: 0.6338\n",
            "Epoch 55/1000\n",
            "31/31 [==============================] - 17s 549ms/step - loss: 0.1300 - accuracy: 0.9597 - val_loss: 4.2757 - val_accuracy: 0.6237\n",
            "Epoch 56/1000\n",
            "31/31 [==============================] - 17s 539ms/step - loss: 0.1224 - accuracy: 0.9621 - val_loss: 4.4820 - val_accuracy: 0.6216\n",
            "Epoch 57/1000\n",
            "31/31 [==============================] - 18s 569ms/step - loss: 0.1174 - accuracy: 0.9628 - val_loss: 4.5374 - val_accuracy: 0.6328\n",
            "Epoch 58/1000\n",
            "31/31 [==============================] - 17s 541ms/step - loss: 0.1182 - accuracy: 0.9635 - val_loss: 4.6007 - val_accuracy: 0.6328\n",
            "Epoch 59/1000\n",
            "31/31 [==============================] - 17s 542ms/step - loss: 0.1138 - accuracy: 0.9625 - val_loss: 4.6341 - val_accuracy: 0.6282\n",
            "Epoch 60/1000\n",
            "31/31 [==============================] - 17s 532ms/step - loss: 0.1187 - accuracy: 0.9618 - val_loss: 4.6585 - val_accuracy: 0.6303\n",
            "Epoch 61/1000\n",
            "31/31 [==============================] - 17s 556ms/step - loss: 0.1275 - accuracy: 0.9606 - val_loss: 4.6860 - val_accuracy: 0.6277\n",
            "Epoch 62/1000\n",
            "31/31 [==============================] - 17s 540ms/step - loss: 0.1095 - accuracy: 0.9635 - val_loss: 4.7149 - val_accuracy: 0.6369\n",
            "Epoch 63/1000\n",
            "31/31 [==============================] - 17s 543ms/step - loss: 0.1128 - accuracy: 0.9656 - val_loss: 4.6767 - val_accuracy: 0.6328\n",
            "Epoch 64/1000\n",
            "31/31 [==============================] - 17s 551ms/step - loss: 0.1106 - accuracy: 0.9634 - val_loss: 4.8298 - val_accuracy: 0.6384\n",
            "Epoch 65/1000\n",
            "31/31 [==============================] - 17s 545ms/step - loss: 0.1030 - accuracy: 0.9671 - val_loss: 5.0729 - val_accuracy: 0.6338\n",
            "Epoch 66/1000\n",
            "31/31 [==============================] - 16s 521ms/step - loss: 0.1062 - accuracy: 0.9651 - val_loss: 5.0350 - val_accuracy: 0.6318\n",
            "Epoch 67/1000\n",
            "31/31 [==============================] - 16s 523ms/step - loss: 0.1051 - accuracy: 0.9667 - val_loss: 5.0345 - val_accuracy: 0.6359\n",
            "Epoch 68/1000\n",
            "31/31 [==============================] - 16s 529ms/step - loss: 0.1039 - accuracy: 0.9680 - val_loss: 5.1338 - val_accuracy: 0.6333\n",
            "Epoch 69/1000\n",
            "31/31 [==============================] - 16s 529ms/step - loss: 0.0997 - accuracy: 0.9680 - val_loss: 5.3739 - val_accuracy: 0.6348\n",
            "Epoch 70/1000\n",
            "31/31 [==============================] - 17s 536ms/step - loss: 0.1012 - accuracy: 0.9685 - val_loss: 5.4014 - val_accuracy: 0.6232\n",
            "Epoch 71/1000\n",
            "31/31 [==============================] - 17s 539ms/step - loss: 0.0988 - accuracy: 0.9662 - val_loss: 5.4258 - val_accuracy: 0.6303\n",
            "Epoch 72/1000\n",
            "31/31 [==============================] - 16s 515ms/step - loss: 0.1051 - accuracy: 0.9678 - val_loss: 5.6816 - val_accuracy: 0.6267\n",
            "Epoch 73/1000\n",
            "31/31 [==============================] - 17s 538ms/step - loss: 0.1022 - accuracy: 0.9681 - val_loss: 5.6172 - val_accuracy: 0.6348\n",
            "Epoch 74/1000\n",
            "31/31 [==============================] - 17s 543ms/step - loss: 0.0938 - accuracy: 0.9700 - val_loss: 5.6388 - val_accuracy: 0.6242\n",
            "Epoch 75/1000\n",
            "31/31 [==============================] - 19s 579ms/step - loss: 0.0953 - accuracy: 0.9703 - val_loss: 5.6040 - val_accuracy: 0.6293\n",
            "Epoch 76/1000\n",
            "31/31 [==============================] - 17s 535ms/step - loss: 0.0991 - accuracy: 0.9710 - val_loss: 5.6979 - val_accuracy: 0.6323\n",
            "Epoch 77/1000\n",
            "31/31 [==============================] - 17s 542ms/step - loss: 0.0958 - accuracy: 0.9712 - val_loss: 5.8539 - val_accuracy: 0.6293\n",
            "Epoch 78/1000\n",
            "31/31 [==============================] - 17s 544ms/step - loss: 0.0964 - accuracy: 0.9691 - val_loss: 5.6825 - val_accuracy: 0.6308\n",
            "Epoch 79/1000\n",
            "31/31 [==============================] - 17s 550ms/step - loss: 0.0927 - accuracy: 0.9710 - val_loss: 6.0729 - val_accuracy: 0.6227\n",
            "Epoch 80/1000\n",
            "31/31 [==============================] - 17s 552ms/step - loss: 0.0906 - accuracy: 0.9715 - val_loss: 6.2755 - val_accuracy: 0.6150\n",
            "Epoch 81/1000\n",
            "31/31 [==============================] - 17s 549ms/step - loss: 0.0902 - accuracy: 0.9717 - val_loss: 6.0511 - val_accuracy: 0.6313\n",
            "Epoch 82/1000\n",
            "31/31 [==============================] - 17s 541ms/step - loss: 0.1062 - accuracy: 0.9698 - val_loss: 6.5674 - val_accuracy: 0.6049\n",
            "Epoch 83/1000\n",
            "31/31 [==============================] - 17s 541ms/step - loss: 0.0972 - accuracy: 0.9703 - val_loss: 5.9889 - val_accuracy: 0.6232\n",
            "Epoch 84/1000\n",
            "31/31 [==============================] - 17s 538ms/step - loss: 0.0923 - accuracy: 0.9714 - val_loss: 6.1168 - val_accuracy: 0.6257\n",
            "Epoch 85/1000\n",
            "31/31 [==============================] - 17s 540ms/step - loss: 0.0941 - accuracy: 0.9703 - val_loss: 6.1982 - val_accuracy: 0.6257\n",
            "Epoch 86/1000\n",
            "31/31 [==============================] - 17s 536ms/step - loss: 0.0967 - accuracy: 0.9698 - val_loss: 6.2539 - val_accuracy: 0.6191\n",
            "Epoch 87/1000\n",
            "31/31 [==============================] - 17s 544ms/step - loss: 0.0810 - accuracy: 0.9757 - val_loss: 6.4375 - val_accuracy: 0.6201\n",
            "Epoch 88/1000\n",
            "31/31 [==============================] - 17s 536ms/step - loss: 0.0838 - accuracy: 0.9734 - val_loss: 6.3668 - val_accuracy: 0.6237\n",
            "Epoch 89/1000\n",
            "31/31 [==============================] - 17s 539ms/step - loss: 0.0898 - accuracy: 0.9724 - val_loss: 6.5833 - val_accuracy: 0.6155\n",
            "Epoch 90/1000\n",
            "31/31 [==============================] - 17s 539ms/step - loss: 0.0814 - accuracy: 0.9751 - val_loss: 6.3758 - val_accuracy: 0.6196\n",
            "Epoch 91/1000\n",
            "31/31 [==============================] - 17s 535ms/step - loss: 0.0841 - accuracy: 0.9745 - val_loss: 6.9657 - val_accuracy: 0.6166\n",
            "Epoch 92/1000\n",
            "31/31 [==============================] - 17s 537ms/step - loss: 0.0897 - accuracy: 0.9726 - val_loss: 6.7042 - val_accuracy: 0.6191\n",
            "Epoch 93/1000\n",
            "31/31 [==============================] - 16s 530ms/step - loss: 0.0867 - accuracy: 0.9731 - val_loss: 6.5604 - val_accuracy: 0.6110\n",
            "Epoch 94/1000\n",
            "31/31 [==============================] - 17s 538ms/step - loss: 0.0870 - accuracy: 0.9726 - val_loss: 6.8776 - val_accuracy: 0.6232\n",
            "Epoch 95/1000\n",
            "31/31 [==============================] - 17s 538ms/step - loss: 0.0750 - accuracy: 0.9759 - val_loss: 6.8495 - val_accuracy: 0.6216\n",
            "Epoch 96/1000\n",
            "31/31 [==============================] - 17s 537ms/step - loss: 0.0794 - accuracy: 0.9738 - val_loss: 7.2154 - val_accuracy: 0.6130\n",
            "Epoch 97/1000\n",
            "31/31 [==============================] - 17s 540ms/step - loss: 0.0797 - accuracy: 0.9748 - val_loss: 7.2460 - val_accuracy: 0.6196\n",
            "Epoch 98/1000\n",
            "31/31 [==============================] - 17s 537ms/step - loss: 0.0784 - accuracy: 0.9752 - val_loss: 7.3017 - val_accuracy: 0.6196\n",
            "Epoch 99/1000\n",
            "31/31 [==============================] - 16s 529ms/step - loss: 0.0751 - accuracy: 0.9754 - val_loss: 7.4383 - val_accuracy: 0.6191\n",
            "Epoch 100/1000\n",
            "31/31 [==============================] - 17s 540ms/step - loss: 0.0731 - accuracy: 0.9753 - val_loss: 7.5325 - val_accuracy: 0.6196\n",
            "Epoch 101/1000\n",
            "31/31 [==============================] - 16s 519ms/step - loss: 0.0802 - accuracy: 0.9751 - val_loss: 7.2274 - val_accuracy: 0.6272\n",
            "Epoch 102/1000\n",
            "31/31 [==============================] - 16s 516ms/step - loss: 0.0768 - accuracy: 0.9761 - val_loss: 7.6994 - val_accuracy: 0.6201\n",
            "Epoch 103/1000\n",
            "31/31 [==============================] - 16s 514ms/step - loss: 0.0761 - accuracy: 0.9747 - val_loss: 7.5135 - val_accuracy: 0.6257\n",
            "Epoch 104/1000\n",
            "31/31 [==============================] - 16s 514ms/step - loss: 0.0731 - accuracy: 0.9771 - val_loss: 7.4500 - val_accuracy: 0.6201\n",
            "Epoch 105/1000\n",
            "31/31 [==============================] - 16s 527ms/step - loss: 0.0753 - accuracy: 0.9766 - val_loss: 7.8024 - val_accuracy: 0.6206\n",
            "Epoch 106/1000\n",
            "31/31 [==============================] - 17s 552ms/step - loss: 0.0736 - accuracy: 0.9769 - val_loss: 8.2013 - val_accuracy: 0.6166\n",
            "Epoch 107/1000\n",
            "31/31 [==============================] - 18s 572ms/step - loss: 0.0772 - accuracy: 0.9768 - val_loss: 8.1781 - val_accuracy: 0.6155\n",
            "Epoch 108/1000\n",
            "31/31 [==============================] - 16s 529ms/step - loss: 0.0741 - accuracy: 0.9768 - val_loss: 8.2217 - val_accuracy: 0.6186\n",
            "Epoch 109/1000\n",
            "31/31 [==============================] - 16s 529ms/step - loss: 0.0734 - accuracy: 0.9776 - val_loss: 7.6992 - val_accuracy: 0.6216\n",
            "Epoch 110/1000\n",
            "31/31 [==============================] - 17s 533ms/step - loss: 0.0739 - accuracy: 0.9772 - val_loss: 7.9243 - val_accuracy: 0.6221\n",
            "Epoch 111/1000\n",
            "31/31 [==============================] - 17s 557ms/step - loss: 0.0702 - accuracy: 0.9789 - val_loss: 8.3766 - val_accuracy: 0.6191\n",
            "Epoch 112/1000\n",
            "31/31 [==============================] - 16s 514ms/step - loss: 0.0734 - accuracy: 0.9759 - val_loss: 8.3956 - val_accuracy: 0.6221\n",
            "Epoch 113/1000\n",
            "31/31 [==============================] - 16s 526ms/step - loss: 0.0800 - accuracy: 0.9778 - val_loss: 8.7478 - val_accuracy: 0.6130\n",
            "Epoch 114/1000\n",
            "31/31 [==============================] - 16s 519ms/step - loss: 0.0738 - accuracy: 0.9775 - val_loss: 8.2715 - val_accuracy: 0.6216\n",
            "Epoch 115/1000\n",
            "31/31 [==============================] - 16s 522ms/step - loss: 0.0715 - accuracy: 0.9780 - val_loss: 8.5680 - val_accuracy: 0.6150\n",
            "Epoch 116/1000\n",
            "31/31 [==============================] - 16s 525ms/step - loss: 0.0701 - accuracy: 0.9771 - val_loss: 8.4853 - val_accuracy: 0.6191\n",
            "Epoch 117/1000\n",
            "31/31 [==============================] - 17s 534ms/step - loss: 0.0719 - accuracy: 0.9773 - val_loss: 8.5026 - val_accuracy: 0.6227\n",
            "Epoch 118/1000\n",
            "31/31 [==============================] - 17s 536ms/step - loss: 0.0730 - accuracy: 0.9782 - val_loss: 8.7816 - val_accuracy: 0.6135\n",
            "Epoch 119/1000\n",
            "31/31 [==============================] - 17s 535ms/step - loss: 0.0719 - accuracy: 0.9767 - val_loss: 8.7927 - val_accuracy: 0.6176\n",
            "Epoch 120/1000\n",
            "31/31 [==============================] - 17s 541ms/step - loss: 0.0695 - accuracy: 0.9782 - val_loss: 8.6888 - val_accuracy: 0.6166\n",
            "Epoch 121/1000\n",
            "31/31 [==============================] - 16s 532ms/step - loss: 0.0657 - accuracy: 0.9791 - val_loss: 8.8956 - val_accuracy: 0.6145\n",
            "Epoch 122/1000\n",
            "31/31 [==============================] - 16s 519ms/step - loss: 0.0698 - accuracy: 0.9780 - val_loss: 8.7585 - val_accuracy: 0.6166\n",
            "Epoch 123/1000\n",
            "31/31 [==============================] - 17s 535ms/step - loss: 0.0732 - accuracy: 0.9773 - val_loss: 8.7006 - val_accuracy: 0.6191\n",
            "Epoch 124/1000\n",
            "31/31 [==============================] - 16s 509ms/step - loss: 0.0721 - accuracy: 0.9775 - val_loss: 8.9232 - val_accuracy: 0.6176\n",
            "Epoch 125/1000\n",
            "31/31 [==============================] - 16s 519ms/step - loss: 0.0667 - accuracy: 0.9790 - val_loss: 8.8764 - val_accuracy: 0.6201\n",
            "Epoch 126/1000\n",
            "31/31 [==============================] - 16s 510ms/step - loss: 0.0713 - accuracy: 0.9771 - val_loss: 9.0673 - val_accuracy: 0.6196\n",
            "Epoch 127/1000\n",
            "31/31 [==============================] - 16s 511ms/step - loss: 0.0624 - accuracy: 0.9801 - val_loss: 9.2846 - val_accuracy: 0.6181\n",
            "Epoch 128/1000\n",
            "31/31 [==============================] - 16s 525ms/step - loss: 0.0681 - accuracy: 0.9789 - val_loss: 9.5250 - val_accuracy: 0.6181\n",
            "Epoch 129/1000\n",
            "31/31 [==============================] - 16s 525ms/step - loss: 0.0646 - accuracy: 0.9796 - val_loss: 9.7032 - val_accuracy: 0.6211\n",
            "Epoch 130/1000\n",
            "31/31 [==============================] - 16s 526ms/step - loss: 0.0725 - accuracy: 0.9756 - val_loss: 9.2676 - val_accuracy: 0.6166\n",
            "Epoch 131/1000\n",
            "31/31 [==============================] - 17s 537ms/step - loss: 0.0654 - accuracy: 0.9787 - val_loss: 10.0099 - val_accuracy: 0.6166\n",
            "Epoch 132/1000\n",
            "31/31 [==============================] - 17s 535ms/step - loss: 0.0678 - accuracy: 0.9787 - val_loss: 9.1069 - val_accuracy: 0.6135\n",
            "Epoch 133/1000\n",
            "31/31 [==============================] - 17s 534ms/step - loss: 0.0634 - accuracy: 0.9808 - val_loss: 9.7289 - val_accuracy: 0.6145\n",
            "Epoch 134/1000\n",
            "31/31 [==============================] - 16s 529ms/step - loss: 0.0677 - accuracy: 0.9785 - val_loss: 9.9689 - val_accuracy: 0.6110\n",
            "Epoch 135/1000\n",
            "31/31 [==============================] - 16s 523ms/step - loss: 0.0675 - accuracy: 0.9775 - val_loss: 10.8109 - val_accuracy: 0.6069\n",
            "Epoch 136/1000\n",
            "31/31 [==============================] - 17s 555ms/step - loss: 0.0788 - accuracy: 0.9760 - val_loss: 9.6746 - val_accuracy: 0.6135\n",
            "Epoch 137/1000\n",
            "31/31 [==============================] - 16s 529ms/step - loss: 0.0695 - accuracy: 0.9790 - val_loss: 10.0049 - val_accuracy: 0.6145\n"
          ]
        }
      ],
      "source": [
        "history = seq_model.fit(train_data, epochs=1000, validation_data=valid_data, callbacks=[callback])"
      ]
    },
    {
      "cell_type": "code",
      "execution_count": 43,
      "metadata": {
        "colab": {
          "base_uri": "https://localhost:8080/"
        },
        "id": "tSAdLYj8FfIM",
        "outputId": "2a865a3f-7ef1-4bd0-fad8-4c03b5d95140"
      },
      "outputs": [
        {
          "output_type": "stream",
          "name": "stdout",
          "text": [
            "4/4 [==============================] - 0s 62ms/step - loss: 9.2475 - accuracy: 0.6293\n"
          ]
        },
        {
          "output_type": "execute_result",
          "data": {
            "text/plain": [
              "[9.24746322631836, 0.6292534470558167]"
            ]
          },
          "metadata": {},
          "execution_count": 43
        }
      ],
      "source": [
        "seq_model.evaluate(test_data)"
      ]
    },
    {
      "cell_type": "code",
      "source": [
        "# loading library\n",
        "import pickle\n",
        "# create an iterator object with write permission - model.pkl\n",
        "with open('sequential_classifyer', 'wb') as files:\n",
        "    pickle.dump(seq_model, files)"
      ],
      "metadata": {
        "id": "zZOUjw9ZkYgz"
      },
      "execution_count": 50,
      "outputs": []
    },
    {
      "cell_type": "code",
      "execution_count": 44,
      "metadata": {
        "colab": {
          "base_uri": "https://localhost:8080/",
          "height": 590
        },
        "id": "QXDs4MGP-Ze8",
        "outputId": "21d8ee40-a1b8-4bab-f28e-c9697b147e01"
      },
      "outputs": [
        {
          "output_type": "stream",
          "name": "stdout",
          "text": [
            "dict_keys(['loss', 'accuracy', 'val_loss', 'val_accuracy'])\n"
          ]
        },
        {
          "output_type": "display_data",
          "data": {
            "text/plain": [
              "<Figure size 432x288 with 1 Axes>"
            ],
            "image/png": "[encoded data removed]"
          },
          "metadata": {
            "needs_background": "light"
          }
        },
        {
          "output_type": "display_data",
          "data": {
            "text/plain": [
              "<Figure size 432x288 with 1 Axes>"
            ],
            "image/png": "[encoded data removed]"
          },
          "metadata": {
            "needs_background": "light"
          }
        }
      ],
      "source": [
        "# list all data in history\n",
        "print(history.history.keys())\n",
        "\n",
        "\n",
        "# summarize history for accuracy\n",
        "plt.plot(history.history['accuracy'])\n",
        "plt.plot(history.history['val_accuracy'])\n",
        "plt.title('model accuracy')\n",
        "plt.ylabel('accuracy')\n",
        "plt.xlabel('epoch')\n",
        "plt.legend(['train', 'test'], loc='upper left')\n",
        "plt.show()\n",
        "\n",
        "\n",
        "# summarize history for loss\n",
        "plt.plot(history.history['loss'])\n",
        "plt.plot(history.history['val_loss'])\n",
        "plt.title('model loss')\n",
        "plt.ylabel('loss')\n",
        "plt.xlabel('epoch')\n",
        "plt.legend(['train', 'test'], loc='upper left')\n",
        "plt.show()"
      ]
    },
    {
      "cell_type": "markdown",
      "metadata": {
        "id": "gRX5mI6nNiE3"
      },
      "source": [
        "# Bidirectional LSTM"
      ]
    },
    {
      "cell_type": "code",
      "execution_count": 37,
      "metadata": {
        "id": "fuCT5be8qUFa"
      },
      "outputs": [],
      "source": [
        "train_data = df_to_dataset(train, batch_size= 512)\n",
        "valid_data = df_to_dataset(val, batch_size= 512)\n",
        "test_data = df_to_dataset(test, batch_size= 512)"
      ]
    },
    {
      "cell_type": "code",
      "execution_count": 38,
      "metadata": {
        "id": "TNzK6f_5NYzj"
      },
      "outputs": [],
      "source": [
        "encoder = tf.keras.layers.TextVectorization(ngrams= 2, max_tokens=2000)\n",
        "\n",
        "encoder.adapt(list(train_data)[0][0])"
      ]
    },
    {
      "cell_type": "code",
      "execution_count": 39,
      "metadata": {
        "id": "GpcGB0JsN4ot",
        "colab": {
          "base_uri": "https://localhost:8080/"
        },
        "outputId": "55d440d3-aef5-4536-d984-dd936955cf49"
      },
      "outputs": [
        {
          "output_type": "execute_result",
          "data": {
            "text/plain": [
              "2000"
            ]
          },
          "metadata": {},
          "execution_count": 39
        }
      ],
      "source": [
        "vocab = np.array(encoder.get_vocabulary())\n",
        "vocab[:20]\n",
        "len(encoder.get_vocabulary())"
      ]
    },
    {
      "cell_type": "code",
      "execution_count": 40,
      "metadata": {
        "id": "H-Y26eI9N_Zb"
      },
      "outputs": [],
      "source": [
        "bi_lstm = tf.keras.Sequential([\n",
        "    encoder,\n",
        "    tf.keras.layers.Embedding(\n",
        "        input_dim=len(encoder.get_vocabulary()),\n",
        "        output_dim=32,\n",
        "        mask_zero=True),\n",
        "    tf.keras.layers.Bidirectional(tf.keras.layers.LSTM(32, return_sequences=False)),\n",
        "    #tf.keras.layers.Bidirectional(tf.keras.layers.LSTM(32)), \n",
        "    tf.keras.layers.Dense(32, activation='relu'),\n",
        "    tf.keras.layers.Dropout(0.4),\n",
        "    tf.keras.layers.Dense(6, activation='sigmoid')\n",
        "])"
      ]
    },
    {
      "cell_type": "code",
      "execution_count": 41,
      "metadata": {
        "id": "73gAWfWjOurW"
      },
      "outputs": [],
      "source": [
        "bi_lstm.compile(optimizer=tf.keras.optimizers.Adam(learning_rate=0.01),\n",
        "              loss=tf.keras.losses.CategoricalCrossentropy(),\n",
        "              metrics=['accuracy'])"
      ]
    },
    {
      "cell_type": "code",
      "execution_count": 42,
      "metadata": {
        "id": "vs2c3swjOzS9",
        "colab": {
          "base_uri": "https://localhost:8080/"
        },
        "outputId": "bf29f82a-02e8-447c-8b15-0fb95906a3c4"
      },
      "outputs": [
        {
          "output_type": "stream",
          "name": "stdout",
          "text": [
            "31/31 [==============================] - 254s 8s/step - loss: 1.7917 - accuracy: 0.1763\n",
            "4/4 [==============================] - 32s 8s/step - loss: 1.7916 - accuracy: 0.1798\n"
          ]
        },
        {
          "output_type": "execute_result",
          "data": {
            "text/plain": [
              "[1.7915542125701904, 0.17978669703006744]"
            ]
          },
          "metadata": {},
          "execution_count": 42
        }
      ],
      "source": [
        "bi_lstm.evaluate(train_data)\n",
        "\n",
        "bi_lstm.evaluate(valid_data)"
      ]
    },
    {
      "cell_type": "code",
      "source": [
        "callback = tf.keras.callbacks.EarlyStopping(monitor='loss', patience=5, restore_best_weights= True)"
      ],
      "metadata": {
        "id": "pyBQeuWTpoWd"
      },
      "execution_count": 43,
      "outputs": []
    },
    {
      "cell_type": "code",
      "execution_count": null,
      "metadata": {
        "id": "ykUKXvEEO28V",
        "colab": {
          "base_uri": "https://localhost:8080/"
        },
        "outputId": "04f4bf47-7187-45d8-d15a-3b7f264c97a2"
      },
      "outputs": [
        {
          "output_type": "stream",
          "name": "stdout",
          "text": [
            "Epoch 1/50\n",
            " 9/31 [=======>......................] - ETA: 7:59 - loss: 1.7811 - accuracy: 0.1886"
          ]
        }
      ],
      "source": [
        "history2 = bi_lstm.fit(train_data, epochs=50, validation_data=valid_data, callbacks=[callback])"
      ]
    },
    {
      "cell_type": "code",
      "execution_count": null,
      "metadata": {
        "id": "o4qO0hkHPEtb"
      },
      "outputs": [],
      "source": [
        "bi_lstm.evaluate(test_data)"
      ]
    },
    {
      "cell_type": "code",
      "execution_count": null,
      "metadata": {
        "id": "Hx1cvurUa6CO"
      },
      "outputs": [],
      "source": [
        "# list all data in history\n",
        "print(history2.history.keys())\n",
        "\n",
        "\n",
        "# summarize history for accuracy\n",
        "plt.plot(history2.history['accuracy'])\n",
        "plt.plot(history2.history['val_accuracy'])\n",
        "plt.title('model accuracy')\n",
        "plt.ylabel('accuracy')\n",
        "plt.xlabel('epoch')\n",
        "plt.legend(['train', 'test'], loc='upper left')\n",
        "plt.show()\n",
        "\n",
        "\n",
        "# summarize history for loss\n",
        "plt.plot(history2.history['loss'])\n",
        "plt.plot(history2.history['val_loss'])\n",
        "plt.title('model loss')\n",
        "plt.ylabel('loss')\n",
        "plt.xlabel('epoch')\n",
        "plt.legend(['train', 'test'], loc='upper left')\n",
        "plt.show()"
      ]
    },
    {
      "cell_type": "code",
      "source": [
        "%tensorboard --logdir logs/fit"
      ],
      "metadata": {
        "id": "qrbg8Gpr8lrs"
      },
      "execution_count": null,
      "outputs": []
    },
    {
      "cell_type": "code",
      "source": [
        "# loading library\n",
        "import pickle\n",
        "# create an iterator object with write permission - model.pkl\n",
        "with open('bidirectional_classifyer', 'wb') as files:\n",
        "    pickle.dump(bi_lstm, files)"
      ],
      "metadata": {
        "id": "BcacFM8QFM4V"
      },
      "execution_count": null,
      "outputs": []
    },
    {
      "cell_type": "code",
      "source": [
        "from google.colab import files\n",
        "files.download('bidirectional_classifyer.pkl')"
      ],
      "metadata": {
        "id": "Yg7vfEbaaoDT"
      },
      "execution_count": null,
      "outputs": []
    },
    {
      "cell_type": "markdown",
      "source": [
        "## Using LIT API to visualize our model"
      ],
      "metadata": {
        "id": "U-VSAjMkAUnU"
      }
    },
    {
      "cell_type": "code",
      "source": [
        "import sys\n",
        "\n",
        "from absl import app\n",
        "from absl import flags\n",
        "from absl import logging\n",
        "\n",
        "from lit_nlp import dev_server\n",
        "from lit_nlp import server_flags\n",
        "from lit_nlp.api import model as lit_model\n",
        "from lit_nlp.api import types as lit_types\n",
        "# Use the regular GLUE data loaders, because these are very simple already.\n",
        "from lit_nlp.examples.datasets import glue\n",
        "from lit_nlp.lib import utils\n",
        "\n",
        "import tensorflow as tf\n",
        "import transformers\n",
        "\n",
        "# NOTE: additional flags defined in server_flags.py\n",
        "\n",
        "FLAGS = flags.FLAGS\n",
        "\n",
        "FLAGS.set_default(\"development_demo\", True)\n",
        "\n",
        "flags.DEFINE_string(\n",
        "    \"model_path\",\n",
        "    \"https://storage.googleapis.com/what-if-tool-resources/lit-models/sst2_tiny.tar.gz\",\n",
        "    \"Path to trained model, in standard transformers format, e.g. as \"\n",
        "    \"saved by model.save_pretrained() and tokenizer.save_pretrained()\")\n",
        "\n",
        "\n",
        "def _from_pretrained(cls, *args, **kw):\n",
        "  \"\"\"Load a transformers model in TF2, with fallback to PyTorch weights.\"\"\"\n",
        "  try:\n",
        "    return cls.from_pretrained(*args, **kw)\n",
        "  except OSError as e:\n",
        "    logging.warning(\"Caught OSError loading model: %s\", e)\n",
        "    logging.warning(\n",
        "        \"Re-trying to convert from PyTorch checkpoint (from_pt=True)\")\n",
        "    return cls.from_pretrained(*args, from_pt=True, **kw)\n",
        "\n",
        "\n",
        "class SimpleSentimentModel(lit_model.Model):\n",
        "  \"\"\"Simple sentiment analysis model.\"\"\"\n",
        "\n",
        "  #LABELS = [\"0\", \"1\"]  # negative, positive\n",
        "  LABELS = ['Anxiety', 'BPD', 'autism', 'bipolar', 'depression',\n",
        "       'schizophrenia']\n",
        "\n",
        "  def __init__(self, model_name_or_path):\n",
        "    self.tokenizer = transformers.AutoTokenizer.from_pretrained(\n",
        "        model_name_or_path)\n",
        "    model_config = transformers.AutoConfig.from_pretrained(\n",
        "        model_name_or_path,\n",
        "        num_labels=2,\n",
        "        output_hidden_states=True,\n",
        "        output_attentions=True,\n",
        "    )\n",
        "    # This is a just a regular Keras model.\n",
        "    self.model = _from_pretrained(\n",
        "        transformers.TFAutoModelForSequenceClassification,\n",
        "        model_name_or_path,\n",
        "        config=model_config)\n",
        "\n",
        "  ##\n",
        "  # LIT API implementation\n",
        "  def max_minibatch_size(self):\n",
        "    # This tells lit_model.Model.predict() how to batch inputs to\n",
        "    # predict_minibatch().\n",
        "    # Alternately, you can just override predict() and handle batching yourself.\n",
        "    return 32\n",
        "\n",
        "  def predict_minibatch(self, inputs):\n",
        "    # Preprocess to ids and masks, and make the input batch.\n",
        "    encoded_input = self.tokenizer.batch_encode_plus(\n",
        "        [ex[\"sentence\"] for ex in inputs],\n",
        "        return_tensors=\"tf\",\n",
        "        add_special_tokens=True,\n",
        "        max_length=128,\n",
        "        padding=\"longest\",\n",
        "        truncation=\"longest_first\")\n",
        "\n",
        "    # Run a forward pass.\n",
        "    out: transformers.modeling_tf_outputs.TFSequenceClassifierOutput = \\\n",
        "        self.model(encoded_input, training=False)\n",
        "\n",
        "    # Post-process outputs.\n",
        "    batched_outputs = {\n",
        "        \"probas\": tf.nn.softmax(out.logits, axis=-1),\n",
        "        \"input_ids\": encoded_input[\"input_ids\"],\n",
        "        \"ntok\": tf.reduce_sum(encoded_input[\"attention_mask\"], axis=1),\n",
        "        \"cls_emb\": out.hidden_states[-1][:, 0],  # last layer, first token\n",
        "    }\n",
        "    # Return as NumPy for further processing.\n",
        "    detached_outputs = {k: v.numpy() for k, v in batched_outputs.items()}\n",
        "    # Unbatch outputs so we get one record per input example.\n",
        "    for output in utils.unbatch_preds(detached_outputs):\n",
        "      ntok = output.pop(\"ntok\")\n",
        "      output[\"tokens\"] = self.tokenizer.convert_ids_to_tokens(\n",
        "          output.pop(\"input_ids\")[1:ntok - 1])\n",
        "      yield output\n",
        "\n",
        "  def input_spec(self) -> lit_types.Spec:\n",
        "    return {\n",
        "        \"sentence\": lit_types.TextSegment(),\n",
        "        \"label\": lit_types.CategoryLabel(vocab=self.LABELS, required=False)\n",
        "    }\n",
        "\n",
        "  def output_spec(self) -> lit_types.Spec:\n",
        "    return {\n",
        "        \"tokens\": lit_types.Tokens(),\n",
        "        \"probas\": lit_types.MulticlassPreds(parent=\"label\", vocab=self.LABELS,\n",
        "                                            null_idx=0),\n",
        "        \"cls_emb\": lit_types.Embeddings()\n",
        "    }\n",
        "\n",
        "\n",
        "def get_wsgi_app():\n",
        "  \"\"\"Returns a LitApp instance for consumption by gunicorn.\"\"\"\n",
        "  FLAGS.set_default(\"server_type\", \"external\")\n",
        "  FLAGS.set_default(\"demo_mode\", True)\n",
        "  # Parse flags without calling app.run(main), to avoid conflict with\n",
        "  # gunicorn command line flags.\n",
        "  unused = flags.FLAGS(sys.argv, known_only=True)\n",
        "  return main(unused)\n",
        "\n",
        "\n",
        "def main(_):\n",
        "  # Normally path is a directory; if it's an archive file, download and\n",
        "  # extract to the transformers cache.\n",
        "  model_path = FLAGS.model_path\n",
        "  if model_path.endswith(\".tar.gz\"):\n",
        "    model_path = transformers.file_utils.cached_path(\n",
        "        model_path, extract_compressed_file=True)\n",
        "\n",
        "  # Load the model we defined above.\n",
        "  models = {\"sst\": SimpleSentimentModel(model_path)}\n",
        "  # Load SST-2 validation set from TFDS.\n",
        "  datasets = {\"sst_dev\": glue.SST2Data(\"validation\")}\n",
        "\n",
        "  # Start the LIT server. See server_flags.py for server options.\n",
        "  lit_demo = dev_server.Server(models, datasets, **server_flags.get_flags())\n",
        "  return lit_demo.serve()\n",
        "\n",
        "\n",
        "if __name__ == \"__main__\":\n",
        "  app.run(main)"
      ],
      "metadata": {
        "id": "ICv4Fxgi_bbW"
      },
      "execution_count": null,
      "outputs": []
    }
  ],
  "metadata": {
    "accelerator": "GPU",
    "colab": {
      "collapsed_sections": [],
      "provenance": [],
      "authorship_tag": "ABX9TyPYqlMrOcD4C1rfOC254A1F",
      "include_colab_link": true
    },
    "kernelspec": {
      "display_name": "Python 3",
      "name": "python3"
    },
    "language_info": {
      "name": "python"
    }
  },
  "nbformat": 4,
  "nbformat_minor": 0
}