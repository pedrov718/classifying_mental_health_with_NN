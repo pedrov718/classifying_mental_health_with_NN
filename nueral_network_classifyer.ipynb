{
  "nbformat": 4,
  "nbformat_minor": 0,
  "metadata": {
    "colab": {
      "provenance": [],
      "collapsed_sections": [],
      "authorship_tag": "ABX9TyP8xmLtYLwcdShCz+BX1uC5",
      "include_colab_link": true
    },
    "kernelspec": {
      "name": "python3",
      "display_name": "Python 3"
    },
    "language_info": {
      "name": "python"
    }
  },
  "cells": [
    {
      "cell_type": "markdown",
      "metadata": {
        "id": "view-in-github",
        "colab_type": "text"
      },
      "source": [
        "<a href=\"https://colab.research.google.com/github/pedrov718/classifying_mental_health_with_NN/blob/main/nueral_network_classifyer.ipynb\" target=\"_parent\"><img src=\"https://colab.research.google.com/assets/colab-badge.svg\" alt=\"Open In Colab\"/></a>"
      ]
    },
    {
      "cell_type": "code",
      "source": [
        "import numpy as np\n",
        "import pandas as pd\n",
        "import matplotlib.pyplot as plt\n",
        "import tensorflow as tf\n",
        "import tensorflow_hub as hub\n",
        "from sklearn.model_selection import cross_val_score\n",
        "from sklearn.model_selection import KFold\n",
        "from tensorflow.keras.layers import Flatten\n",
        "from sklearn.preprocessing import LabelEncoder\n",
        "from sklearn.pipeline import Pipeline\n",
        "from keras.utils import np_utils\n",
        "from sklearn import preprocessing"
      ],
      "metadata": {
        "id": "6Ju4VJA66aPY"
      },
      "execution_count": 95,
      "outputs": []
    },
    {
      "cell_type": "code",
      "source": [
        "posts = pd.read_excel(\"/content/mental_health_posts_scraped.xlsx\", index_col= 'Unnamed: 0')"
      ],
      "metadata": {
        "id": "JloCS_004br_"
      },
      "execution_count": 96,
      "outputs": []
    },
    {
      "cell_type": "code",
      "source": [
        "posts.rename(columns = {\"Origin\":'label'}, inplace = True)"
      ],
      "metadata": {
        "id": "NqrczMSPCThY"
      },
      "execution_count": 97,
      "outputs": []
    },
    {
      "cell_type": "code",
      "source": [
        "labels = pd.get_dummies(posts.label, drop_first= False)"
      ],
      "metadata": {
        "id": "yd5CNCOquxEs"
      },
      "execution_count": 98,
      "outputs": []
    },
    {
      "cell_type": "code",
      "source": [
        "posts = posts.join(labels)"
      ],
      "metadata": {
        "id": "U22to7EZvCIq"
      },
      "execution_count": 99,
      "outputs": []
    },
    {
      "cell_type": "code",
      "source": [
        "posts.sample(1)"
      ],
      "metadata": {
        "colab": {
          "base_uri": "https://localhost:8080/",
          "height": 194
        },
        "id": "eqpNTlqrv2js",
        "outputId": "da5c3aff-006b-43e2-e925-bf484fe0e1f2"
      },
      "execution_count": 100,
      "outputs": [
        {
          "output_type": "execute_result",
          "data": {
            "text/plain": [
              "                                                 Title  \\\n",
              "613  Don’t want to sleep because tomorrow will come...   \n",
              "\n",
              "                                             Post Text      ID  Score  \\\n",
              "613  All I want to do is get in bed and sleep forev...  fdnzub   1662   \n",
              "\n",
              "     Total Comments       label  \\\n",
              "613              91  depression   \n",
              "\n",
              "                                              Post URL  \\\n",
              "613  https://www.reddit.com/r/depression/comments/f...   \n",
              "\n",
              "                                                  text  Anxiety  BPD  autism  \\\n",
              "613  Don’t want to sleep because tomorrow will come...        0    0       0   \n",
              "\n",
              "     bipolar  depression  schizophrenia  \n",
              "613        0           1              0  "
            ],
            "text/html": [
              "\n",
              "  <div id=\"df-bec80beb-89b9-407d-b4be-a8dd7ab0a48f\">\n",
              "    <div class=\"colab-df-container\">\n",
              "      <div>\n",
              "<style scoped>\n",
              "    .dataframe tbody tr th:only-of-type {\n",
              "        vertical-align: middle;\n",
              "    }\n",
              "\n",
              "    .dataframe tbody tr th {\n",
              "        vertical-align: top;\n",
              "    }\n",
              "\n",
              "    .dataframe thead th {\n",
              "        text-align: right;\n",
              "    }\n",
              "</style>\n",
              "<table border=\"1\" class=\"dataframe\">\n",
              "  <thead>\n",
              "    <tr style=\"text-align: right;\">\n",
              "      <th></th>\n",
              "      <th>Title</th>\n",
              "      <th>Post Text</th>\n",
              "      <th>ID</th>\n",
              "      <th>Score</th>\n",
              "      <th>Total Comments</th>\n",
              "      <th>label</th>\n",
              "      <th>Post URL</th>\n",
              "      <th>text</th>\n",
              "      <th>Anxiety</th>\n",
              "      <th>BPD</th>\n",
              "      <th>autism</th>\n",
              "      <th>bipolar</th>\n",
              "      <th>depression</th>\n",
              "      <th>schizophrenia</th>\n",
              "    </tr>\n",
              "  </thead>\n",
              "  <tbody>\n",
              "    <tr>\n",
              "      <th>613</th>\n",
              "      <td>Don’t want to sleep because tomorrow will come...</td>\n",
              "      <td>All I want to do is get in bed and sleep forev...</td>\n",
              "      <td>fdnzub</td>\n",
              "      <td>1662</td>\n",
              "      <td>91</td>\n",
              "      <td>depression</td>\n",
              "      <td>https://www.reddit.com/r/depression/comments/f...</td>\n",
              "      <td>Don’t want to sleep because tomorrow will come...</td>\n",
              "      <td>0</td>\n",
              "      <td>0</td>\n",
              "      <td>0</td>\n",
              "      <td>0</td>\n",
              "      <td>1</td>\n",
              "      <td>0</td>\n",
              "    </tr>\n",
              "  </tbody>\n",
              "</table>\n",
              "</div>\n",
              "      <button class=\"colab-df-convert\" onclick=\"convertToInteractive('df-bec80beb-89b9-407d-b4be-a8dd7ab0a48f')\"\n",
              "              title=\"Convert this dataframe to an interactive table.\"\n",
              "              style=\"display:none;\">\n",
              "        \n",
              "  <svg xmlns=\"http://www.w3.org/2000/svg\" height=\"24px\"viewBox=\"0 0 24 24\"\n",
              "       width=\"24px\">\n",
              "    <path d=\"M0 0h24v24H0V0z\" fill=\"none\"/>\n",
              "    <path d=\"M18.56 5.44l.94 2.06.94-2.06 2.06-.94-2.06-.94-.94-2.06-.94 2.06-2.06.94zm-11 1L8.5 8.5l.94-2.06 2.06-.94-2.06-.94L8.5 2.5l-.94 2.06-2.06.94zm10 10l.94 2.06.94-2.06 2.06-.94-2.06-.94-.94-2.06-.94 2.06-2.06.94z\"/><path d=\"M17.41 7.96l-1.37-1.37c-.4-.4-.92-.59-1.43-.59-.52 0-1.04.2-1.43.59L10.3 9.45l-7.72 7.72c-.78.78-.78 2.05 0 2.83L4 21.41c.39.39.9.59 1.41.59.51 0 1.02-.2 1.41-.59l7.78-7.78 2.81-2.81c.8-.78.8-2.07 0-2.86zM5.41 20L4 18.59l7.72-7.72 1.47 1.35L5.41 20z\"/>\n",
              "  </svg>\n",
              "      </button>\n",
              "      \n",
              "  <style>\n",
              "    .colab-df-container {\n",
              "      display:flex;\n",
              "      flex-wrap:wrap;\n",
              "      gap: 12px;\n",
              "    }\n",
              "\n",
              "    .colab-df-convert {\n",
              "      background-color: #E8F0FE;\n",
              "      border: none;\n",
              "      border-radius: 50%;\n",
              "      cursor: pointer;\n",
              "      display: none;\n",
              "      fill: #1967D2;\n",
              "      height: 32px;\n",
              "      padding: 0 0 0 0;\n",
              "      width: 32px;\n",
              "    }\n",
              "\n",
              "    .colab-df-convert:hover {\n",
              "      background-color: #E2EBFA;\n",
              "      box-shadow: 0px 1px 2px rgba(60, 64, 67, 0.3), 0px 1px 3px 1px rgba(60, 64, 67, 0.15);\n",
              "      fill: #174EA6;\n",
              "    }\n",
              "\n",
              "    [theme=dark] .colab-df-convert {\n",
              "      background-color: #3B4455;\n",
              "      fill: #D2E3FC;\n",
              "    }\n",
              "\n",
              "    [theme=dark] .colab-df-convert:hover {\n",
              "      background-color: #434B5C;\n",
              "      box-shadow: 0px 1px 3px 1px rgba(0, 0, 0, 0.15);\n",
              "      filter: drop-shadow(0px 1px 2px rgba(0, 0, 0, 0.3));\n",
              "      fill: #FFFFFF;\n",
              "    }\n",
              "  </style>\n",
              "\n",
              "      <script>\n",
              "        const buttonEl =\n",
              "          document.querySelector('#df-bec80beb-89b9-407d-b4be-a8dd7ab0a48f button.colab-df-convert');\n",
              "        buttonEl.style.display =\n",
              "          google.colab.kernel.accessAllowed ? 'block' : 'none';\n",
              "\n",
              "        async function convertToInteractive(key) {\n",
              "          const element = document.querySelector('#df-bec80beb-89b9-407d-b4be-a8dd7ab0a48f');\n",
              "          const dataTable =\n",
              "            await google.colab.kernel.invokeFunction('convertToInteractive',\n",
              "                                                     [key], {});\n",
              "          if (!dataTable) return;\n",
              "\n",
              "          const docLinkHtml = 'Like what you see? Visit the ' +\n",
              "            '<a target=\"_blank\" href=https://colab.research.google.com/notebooks/data_table.ipynb>data table notebook</a>'\n",
              "            + ' to learn more about interactive tables.';\n",
              "          element.innerHTML = '';\n",
              "          dataTable['output_type'] = 'display_data';\n",
              "          await google.colab.output.renderOutput(dataTable, element);\n",
              "          const docLink = document.createElement('div');\n",
              "          docLink.innerHTML = docLinkHtml;\n",
              "          element.appendChild(docLink);\n",
              "        }\n",
              "      </script>\n",
              "    </div>\n",
              "  </div>\n",
              "  "
            ]
          },
          "metadata": {},
          "execution_count": 100
        }
      ]
    },
    {
      "cell_type": "code",
      "source": [
        "posts.columns[7:].values"
      ],
      "metadata": {
        "colab": {
          "base_uri": "https://localhost:8080/"
        },
        "id": "2YM0bTuIv7Bm",
        "outputId": "d71a7db8-32be-46bb-8f5c-c7ffeafb1906"
      },
      "execution_count": 101,
      "outputs": [
        {
          "output_type": "execute_result",
          "data": {
            "text/plain": [
              "array(['text', 'Anxiety', 'BPD', 'autism', 'bipolar', 'depression',\n",
              "       'schizophrenia'], dtype=object)"
            ]
          },
          "metadata": {},
          "execution_count": 101
        }
      ]
    },
    {
      "cell_type": "code",
      "source": [
        "df = posts[posts.columns[7:].values]"
      ],
      "metadata": {
        "id": "ScywvBndv-EL"
      },
      "execution_count": 102,
      "outputs": []
    },
    {
      "cell_type": "code",
      "source": [
        "df[posts.columns[8:].values].sum()"
      ],
      "metadata": {
        "colab": {
          "base_uri": "https://localhost:8080/"
        },
        "id": "UdDE_Qk_D1dX",
        "outputId": "ad1c4aeb-5bc0-4633-f43d-9b15a8fac150"
      },
      "execution_count": 103,
      "outputs": [
        {
          "output_type": "execute_result",
          "data": {
            "text/plain": [
              "Anxiety          3119\n",
              "BPD              3260\n",
              "autism           3444\n",
              "bipolar          3272\n",
              "depression       3301\n",
              "schizophrenia    3291\n",
              "dtype: int64"
            ]
          },
          "metadata": {},
          "execution_count": 103
        }
      ]
    },
    {
      "cell_type": "code",
      "source": [
        "train, val, test = np.split(df.sample(frac=1), [int(0.8*len(df)), int(0.9*len(df))])"
      ],
      "metadata": {
        "id": "K4fhT3B3CwnP"
      },
      "execution_count": 104,
      "outputs": []
    },
    {
      "cell_type": "code",
      "source": [
        "def df_to_dataset(dataframe, shuffle=True, batch_size=1024):\n",
        "  \n",
        "  df = dataframe.copy()\n",
        "  labels = df[posts.columns[8:].values]\n",
        "\n",
        "  df = df[\"text\"]\n",
        "\n",
        "  ds = tf.data.Dataset.from_tensor_slices((df, labels))\n",
        "  if shuffle:\n",
        "    ds = ds.shuffle(buffer_size=len(dataframe))\n",
        "  ds = ds.batch(batch_size)\n",
        "  ds = ds.prefetch(tf.data.AUTOTUNE)\n",
        "  return ds"
      ],
      "metadata": {
        "id": "-D3zpoxrC78k"
      },
      "execution_count": 105,
      "outputs": []
    },
    {
      "cell_type": "code",
      "source": [
        "train_data = df_to_dataset(train)\n",
        "valid_data = df_to_dataset(val)\n",
        "test_data = df_to_dataset(test)"
      ],
      "metadata": {
        "id": "S7yFbsNMC9qS"
      },
      "execution_count": 106,
      "outputs": []
    },
    {
      "cell_type": "markdown",
      "source": [
        "## Embedding the model"
      ],
      "metadata": {
        "id": "wh_oJLmHDYiw"
      }
    },
    {
      "cell_type": "code",
      "source": [
        "embedding = \"https://tfhub.dev/google/nnlm-en-dim50/2\"\n",
        "hub_layer = hub.KerasLayer(embedding, dtype=tf.string, trainable=True)"
      ],
      "metadata": {
        "id": "OTLMNadSDamD"
      },
      "execution_count": 107,
      "outputs": []
    },
    {
      "cell_type": "code",
      "source": [
        "hub_layer(list(train_data)[0][0])"
      ],
      "metadata": {
        "colab": {
          "base_uri": "https://localhost:8080/"
        },
        "id": "xVfoPYA5DgSK",
        "outputId": "260db094-ac1a-47ff-b75e-1664a25024f2"
      },
      "execution_count": 108,
      "outputs": [
        {
          "output_type": "execute_result",
          "data": {
            "text/plain": [
              "<tf.Tensor: shape=(1024, 50), dtype=float32, numpy=\n",
              "array([[ 0.18635641, -0.02071199, -0.35330382, ..., -0.09158319,\n",
              "         0.22433645,  0.17418337],\n",
              "       [ 0.31400838,  0.09124126, -0.49660453, ..., -0.38878542,\n",
              "         0.02635207,  0.05250515],\n",
              "       [ 0.3781169 , -0.30648866, -0.08748874, ..., -0.39428183,\n",
              "        -0.06089247, -0.02412256],\n",
              "       ...,\n",
              "       [-0.02883809,  0.02763822, -0.16357765, ...,  0.05677037,\n",
              "         0.03618642, -0.04855941],\n",
              "       [ 0.8224237 ,  0.1410026 , -0.38157764, ..., -0.4366896 ,\n",
              "        -0.04358026,  0.22820275],\n",
              "       [ 1.3415587 ,  0.21432193, -0.5641905 , ..., -0.56641334,\n",
              "         0.04301087, -0.34579104]], dtype=float32)>"
            ]
          },
          "metadata": {},
          "execution_count": 108
        }
      ]
    },
    {
      "cell_type": "code",
      "source": [],
      "metadata": {
        "id": "ERI_0NwW53LI"
      },
      "execution_count": 108,
      "outputs": []
    },
    {
      "cell_type": "code",
      "source": [
        "model = tf.keras.Sequential()\n",
        "model.add(hub_layer)\n",
        "model.add(tf.keras.layers.Dense(64, activation='relu'))\n",
        "model.add(tf.keras.layers.Dropout(0.4))\n",
        "model.add(tf.keras.layers.Dense(32, activation='relu'))\n",
        "model.add(tf.keras.layers.Dropout(0.4))\n",
        "model.add(tf.keras.layers.Dense(16, activation='relu'))\n",
        "model.add(tf.keras.layers.Dropout(0.4))\n",
        "model.add(tf.keras.layers.Dense(6, activation='sigmoid'))"
      ],
      "metadata": {
        "id": "erQViavJDim1"
      },
      "execution_count": 109,
      "outputs": []
    },
    {
      "cell_type": "code",
      "source": [
        "model.compile(optimizer=tf.keras.optimizers.Adam(learning_rate=0.001),\n",
        "              loss=tf.keras.losses.BinaryCrossentropy(),\n",
        "              metrics=['accuracy'])"
      ],
      "metadata": {
        "id": "cWa1bcieEA7v"
      },
      "execution_count": 110,
      "outputs": []
    },
    {
      "cell_type": "code",
      "execution_count": 111,
      "metadata": {
        "colab": {
          "base_uri": "https://localhost:8080/"
        },
        "id": "_kdN2ApIBpr-",
        "outputId": "50a8090a-161c-4cce-829b-d6a381b23f47"
      },
      "outputs": [
        {
          "output_type": "stream",
          "name": "stdout",
          "text": [
            "16/16 [==============================] - 1s 43ms/step - loss: 0.7391 - accuracy: 0.1667\n"
          ]
        },
        {
          "output_type": "execute_result",
          "data": {
            "text/plain": [
              "[0.7390820384025574, 0.16667725145816803]"
            ]
          },
          "metadata": {},
          "execution_count": 111
        }
      ],
      "source": [
        "model.evaluate(train_data)"
      ]
    },
    {
      "cell_type": "code",
      "execution_count": 112,
      "metadata": {
        "colab": {
          "base_uri": "https://localhost:8080/"
        },
        "id": "t_NNEWxLB0No",
        "outputId": "d43bccee-6bd0-400e-f603-93abd976d267"
      },
      "outputs": [
        {
          "output_type": "stream",
          "name": "stdout",
          "text": [
            "2/2 [==============================] - 0s 34ms/step - loss: 0.7417 - accuracy: 0.1686\n"
          ]
        },
        {
          "output_type": "execute_result",
          "data": {
            "text/plain": [
              "[0.7417339086532593, 0.1686135083436966]"
            ]
          },
          "metadata": {},
          "execution_count": 112
        }
      ],
      "source": [
        "model.evaluate(valid_data)"
      ]
    },
    {
      "cell_type": "code",
      "source": [
        "callback = tf.keras.callbacks.EarlyStopping(monitor='loss', patience=3, restore_best_weights= True)"
      ],
      "metadata": {
        "id": "Y9zCKGX96TeI"
      },
      "execution_count": 113,
      "outputs": []
    },
    {
      "cell_type": "code",
      "execution_count": 114,
      "metadata": {
        "colab": {
          "base_uri": "https://localhost:8080/"
        },
        "id": "eIbkIwoPB1uw",
        "outputId": "ba34cc02-9eea-4721-ae23-a5d0c32019b1"
      },
      "outputs": [
        {
          "output_type": "stream",
          "name": "stdout",
          "text": [
            "Epoch 1/1000\n",
            "16/16 [==============================] - 15s 886ms/step - loss: 0.7066 - accuracy: 0.1669 - val_loss: 0.6639 - val_accuracy: 0.1844\n",
            "Epoch 2/1000\n",
            "16/16 [==============================] - 10s 589ms/step - loss: 0.6530 - accuracy: 0.1672 - val_loss: 0.6096 - val_accuracy: 0.1899\n",
            "Epoch 3/1000\n",
            "16/16 [==============================] - 9s 584ms/step - loss: 0.6178 - accuracy: 0.1670 - val_loss: 0.5650 - val_accuracy: 0.1879\n",
            "Epoch 4/1000\n",
            "16/16 [==============================] - 10s 597ms/step - loss: 0.5850 - accuracy: 0.1728 - val_loss: 0.5278 - val_accuracy: 0.2103\n",
            "Epoch 5/1000\n",
            "16/16 [==============================] - 10s 656ms/step - loss: 0.5503 - accuracy: 0.1811 - val_loss: 0.4905 - val_accuracy: 0.2407\n",
            "Epoch 6/1000\n",
            "16/16 [==============================] - 10s 624ms/step - loss: 0.5248 - accuracy: 0.1832 - val_loss: 0.4735 - val_accuracy: 0.2661\n",
            "Epoch 7/1000\n",
            "16/16 [==============================] - 11s 659ms/step - loss: 0.5112 - accuracy: 0.1904 - val_loss: 0.4620 - val_accuracy: 0.2976\n",
            "Epoch 8/1000\n",
            "16/16 [==============================] - 9s 586ms/step - loss: 0.4995 - accuracy: 0.1942 - val_loss: 0.4550 - val_accuracy: 0.3154\n",
            "Epoch 9/1000\n",
            "16/16 [==============================] - 9s 586ms/step - loss: 0.4932 - accuracy: 0.1991 - val_loss: 0.4490 - val_accuracy: 0.3423\n",
            "Epoch 10/1000\n",
            "16/16 [==============================] - 10s 598ms/step - loss: 0.4845 - accuracy: 0.2146 - val_loss: 0.4401 - val_accuracy: 0.3464\n",
            "Epoch 11/1000\n",
            "16/16 [==============================] - 9s 588ms/step - loss: 0.4751 - accuracy: 0.2350 - val_loss: 0.4322 - val_accuracy: 0.3525\n",
            "Epoch 12/1000\n",
            "16/16 [==============================] - 10s 597ms/step - loss: 0.4630 - accuracy: 0.2551 - val_loss: 0.4194 - val_accuracy: 0.3728\n",
            "Epoch 13/1000\n",
            "16/16 [==============================] - 9s 578ms/step - loss: 0.4530 - accuracy: 0.2775 - val_loss: 0.4088 - val_accuracy: 0.4017\n",
            "Epoch 14/1000\n",
            "16/16 [==============================] - 10s 597ms/step - loss: 0.4376 - accuracy: 0.3040 - val_loss: 0.3968 - val_accuracy: 0.4068\n",
            "Epoch 15/1000\n",
            "16/16 [==============================] - 9s 580ms/step - loss: 0.4229 - accuracy: 0.3401 - val_loss: 0.3827 - val_accuracy: 0.4139\n",
            "Epoch 16/1000\n",
            "16/16 [==============================] - 10s 595ms/step - loss: 0.4057 - accuracy: 0.3692 - val_loss: 0.3733 - val_accuracy: 0.4302\n",
            "Epoch 17/1000\n",
            "16/16 [==============================] - 9s 583ms/step - loss: 0.3904 - accuracy: 0.4033 - val_loss: 0.3641 - val_accuracy: 0.4444\n",
            "Epoch 18/1000\n",
            "16/16 [==============================] - 9s 573ms/step - loss: 0.3704 - accuracy: 0.4426 - val_loss: 0.3579 - val_accuracy: 0.4439\n",
            "Epoch 19/1000\n",
            "16/16 [==============================] - 9s 583ms/step - loss: 0.3541 - accuracy: 0.4702 - val_loss: 0.3552 - val_accuracy: 0.4693\n",
            "Epoch 20/1000\n",
            "16/16 [==============================] - 9s 574ms/step - loss: 0.3391 - accuracy: 0.5038 - val_loss: 0.3539 - val_accuracy: 0.4876\n",
            "Epoch 21/1000\n",
            "16/16 [==============================] - 9s 588ms/step - loss: 0.3214 - accuracy: 0.5382 - val_loss: 0.3511 - val_accuracy: 0.5414\n",
            "Epoch 22/1000\n",
            "16/16 [==============================] - 9s 577ms/step - loss: 0.3086 - accuracy: 0.5605 - val_loss: 0.3519 - val_accuracy: 0.5394\n",
            "Epoch 23/1000\n",
            "16/16 [==============================] - 9s 572ms/step - loss: 0.2942 - accuracy: 0.5823 - val_loss: 0.3536 - val_accuracy: 0.5439\n",
            "Epoch 24/1000\n",
            "16/16 [==============================] - 9s 588ms/step - loss: 0.2824 - accuracy: 0.6110 - val_loss: 0.3536 - val_accuracy: 0.5576\n",
            "Epoch 25/1000\n",
            "16/16 [==============================] - 9s 584ms/step - loss: 0.2703 - accuracy: 0.6376 - val_loss: 0.3559 - val_accuracy: 0.5653\n",
            "Epoch 26/1000\n",
            "16/16 [==============================] - 10s 635ms/step - loss: 0.2595 - accuracy: 0.6539 - val_loss: 0.3596 - val_accuracy: 0.5668\n",
            "Epoch 27/1000\n",
            "16/16 [==============================] - 9s 588ms/step - loss: 0.2478 - accuracy: 0.6775 - val_loss: 0.3597 - val_accuracy: 0.5724\n",
            "Epoch 28/1000\n",
            "16/16 [==============================] - 9s 572ms/step - loss: 0.2394 - accuracy: 0.6903 - val_loss: 0.3606 - val_accuracy: 0.5856\n",
            "Epoch 29/1000\n",
            "16/16 [==============================] - 9s 579ms/step - loss: 0.2291 - accuracy: 0.7143 - val_loss: 0.3655 - val_accuracy: 0.5912\n",
            "Epoch 30/1000\n",
            "16/16 [==============================] - 9s 567ms/step - loss: 0.2180 - accuracy: 0.7307 - val_loss: 0.3712 - val_accuracy: 0.5917\n",
            "Epoch 31/1000\n",
            "16/16 [==============================] - 9s 580ms/step - loss: 0.2121 - accuracy: 0.7402 - val_loss: 0.3752 - val_accuracy: 0.5967\n",
            "Epoch 32/1000\n",
            "16/16 [==============================] - 9s 565ms/step - loss: 0.2012 - accuracy: 0.7592 - val_loss: 0.3824 - val_accuracy: 0.6059\n",
            "Epoch 33/1000\n",
            "16/16 [==============================] - 9s 577ms/step - loss: 0.1919 - accuracy: 0.7675 - val_loss: 0.3861 - val_accuracy: 0.6074\n",
            "Epoch 34/1000\n",
            "16/16 [==============================] - 9s 567ms/step - loss: 0.1837 - accuracy: 0.7821 - val_loss: 0.3932 - val_accuracy: 0.6089\n",
            "Epoch 35/1000\n",
            "16/16 [==============================] - 9s 561ms/step - loss: 0.1758 - accuracy: 0.7936 - val_loss: 0.4050 - val_accuracy: 0.6100\n",
            "Epoch 36/1000\n",
            "16/16 [==============================] - 9s 573ms/step - loss: 0.1710 - accuracy: 0.8021 - val_loss: 0.4140 - val_accuracy: 0.6049\n",
            "Epoch 37/1000\n",
            "16/16 [==============================] - 9s 585ms/step - loss: 0.1633 - accuracy: 0.8160 - val_loss: 0.4216 - val_accuracy: 0.6054\n",
            "Epoch 38/1000\n",
            "16/16 [==============================] - 10s 605ms/step - loss: 0.1578 - accuracy: 0.8268 - val_loss: 0.4275 - val_accuracy: 0.6140\n",
            "Epoch 39/1000\n",
            "16/16 [==============================] - 10s 639ms/step - loss: 0.1502 - accuracy: 0.8394 - val_loss: 0.4384 - val_accuracy: 0.6196\n",
            "Epoch 40/1000\n",
            "16/16 [==============================] - 10s 607ms/step - loss: 0.1441 - accuracy: 0.8451 - val_loss: 0.4530 - val_accuracy: 0.6181\n",
            "Epoch 41/1000\n",
            "16/16 [==============================] - 11s 660ms/step - loss: 0.1399 - accuracy: 0.8564 - val_loss: 0.4578 - val_accuracy: 0.6176\n",
            "Epoch 42/1000\n",
            "16/16 [==============================] - 12s 785ms/step - loss: 0.1352 - accuracy: 0.8550 - val_loss: 0.4663 - val_accuracy: 0.6201\n",
            "Epoch 43/1000\n",
            "16/16 [==============================] - 12s 695ms/step - loss: 0.1300 - accuracy: 0.8673 - val_loss: 0.4709 - val_accuracy: 0.6267\n",
            "Epoch 44/1000\n",
            "16/16 [==============================] - 11s 663ms/step - loss: 0.1259 - accuracy: 0.8735 - val_loss: 0.4806 - val_accuracy: 0.6232\n",
            "Epoch 45/1000\n",
            "16/16 [==============================] - 10s 639ms/step - loss: 0.1234 - accuracy: 0.8773 - val_loss: 0.4911 - val_accuracy: 0.6293\n",
            "Epoch 46/1000\n",
            "16/16 [==============================] - 9s 567ms/step - loss: 0.1167 - accuracy: 0.8904 - val_loss: 0.5004 - val_accuracy: 0.6282\n",
            "Epoch 47/1000\n",
            "16/16 [==============================] - 9s 551ms/step - loss: 0.1138 - accuracy: 0.8889 - val_loss: 0.5055 - val_accuracy: 0.6293\n",
            "Epoch 48/1000\n",
            "16/16 [==============================] - 9s 563ms/step - loss: 0.1136 - accuracy: 0.8933 - val_loss: 0.5125 - val_accuracy: 0.6262\n",
            "Epoch 49/1000\n",
            "16/16 [==============================] - 9s 562ms/step - loss: 0.1090 - accuracy: 0.8963 - val_loss: 0.5183 - val_accuracy: 0.6338\n",
            "Epoch 50/1000\n",
            "16/16 [==============================] - 9s 569ms/step - loss: 0.1045 - accuracy: 0.9006 - val_loss: 0.5291 - val_accuracy: 0.6353\n",
            "Epoch 51/1000\n",
            "16/16 [==============================] - 9s 563ms/step - loss: 0.1005 - accuracy: 0.9043 - val_loss: 0.5337 - val_accuracy: 0.6394\n",
            "Epoch 52/1000\n",
            "16/16 [==============================] - 9s 567ms/step - loss: 0.0991 - accuracy: 0.9095 - val_loss: 0.5478 - val_accuracy: 0.6323\n",
            "Epoch 53/1000\n",
            "16/16 [==============================] - 10s 606ms/step - loss: 0.0970 - accuracy: 0.9103 - val_loss: 0.5502 - val_accuracy: 0.6353\n",
            "Epoch 54/1000\n",
            "16/16 [==============================] - 10s 642ms/step - loss: 0.0919 - accuracy: 0.9179 - val_loss: 0.5619 - val_accuracy: 0.6364\n",
            "Epoch 55/1000\n",
            "16/16 [==============================] - 9s 551ms/step - loss: 0.0940 - accuracy: 0.9131 - val_loss: 0.5738 - val_accuracy: 0.6348\n",
            "Epoch 56/1000\n",
            "16/16 [==============================] - 9s 554ms/step - loss: 0.0892 - accuracy: 0.9208 - val_loss: 0.5783 - val_accuracy: 0.6343\n",
            "Epoch 57/1000\n",
            "16/16 [==============================] - 9s 561ms/step - loss: 0.0872 - accuracy: 0.9225 - val_loss: 0.5931 - val_accuracy: 0.6338\n",
            "Epoch 58/1000\n",
            "16/16 [==============================] - 9s 564ms/step - loss: 0.0870 - accuracy: 0.9230 - val_loss: 0.5962 - val_accuracy: 0.6394\n",
            "Epoch 59/1000\n",
            "16/16 [==============================] - 9s 558ms/step - loss: 0.0849 - accuracy: 0.9270 - val_loss: 0.5991 - val_accuracy: 0.6414\n",
            "Epoch 60/1000\n",
            "16/16 [==============================] - 10s 632ms/step - loss: 0.0826 - accuracy: 0.9291 - val_loss: 0.6082 - val_accuracy: 0.6399\n",
            "Epoch 61/1000\n",
            "16/16 [==============================] - 11s 719ms/step - loss: 0.0782 - accuracy: 0.9332 - val_loss: 0.6299 - val_accuracy: 0.6389\n",
            "Epoch 62/1000\n",
            "16/16 [==============================] - 9s 566ms/step - loss: 0.0803 - accuracy: 0.9288 - val_loss: 0.6391 - val_accuracy: 0.6379\n",
            "Epoch 63/1000\n",
            "16/16 [==============================] - 9s 571ms/step - loss: 0.0785 - accuracy: 0.9331 - val_loss: 0.6424 - val_accuracy: 0.6435\n",
            "Epoch 64/1000\n",
            "16/16 [==============================] - 9s 569ms/step - loss: 0.0751 - accuracy: 0.9340 - val_loss: 0.6454 - val_accuracy: 0.6430\n",
            "Epoch 65/1000\n",
            "16/16 [==============================] - 10s 629ms/step - loss: 0.0768 - accuracy: 0.9354 - val_loss: 0.6513 - val_accuracy: 0.6409\n",
            "Epoch 66/1000\n",
            "16/16 [==============================] - 9s 561ms/step - loss: 0.0744 - accuracy: 0.9365 - val_loss: 0.6675 - val_accuracy: 0.6404\n",
            "Epoch 67/1000\n",
            "16/16 [==============================] - 9s 566ms/step - loss: 0.0726 - accuracy: 0.9399 - val_loss: 0.6722 - val_accuracy: 0.6379\n",
            "Epoch 68/1000\n",
            "16/16 [==============================] - 9s 560ms/step - loss: 0.0704 - accuracy: 0.9403 - val_loss: 0.6811 - val_accuracy: 0.6359\n",
            "Epoch 69/1000\n",
            "16/16 [==============================] - 9s 568ms/step - loss: 0.0702 - accuracy: 0.9383 - val_loss: 0.6816 - val_accuracy: 0.6430\n",
            "Epoch 70/1000\n",
            "16/16 [==============================] - 9s 556ms/step - loss: 0.0708 - accuracy: 0.9404 - val_loss: 0.6955 - val_accuracy: 0.6409\n",
            "Epoch 71/1000\n",
            "16/16 [==============================] - 9s 557ms/step - loss: 0.0703 - accuracy: 0.9386 - val_loss: 0.6981 - val_accuracy: 0.6409\n",
            "Epoch 72/1000\n",
            "16/16 [==============================] - 9s 584ms/step - loss: 0.0676 - accuracy: 0.9423 - val_loss: 0.7085 - val_accuracy: 0.6394\n",
            "Epoch 73/1000\n",
            "16/16 [==============================] - 9s 565ms/step - loss: 0.0666 - accuracy: 0.9439 - val_loss: 0.7136 - val_accuracy: 0.6409\n",
            "Epoch 74/1000\n",
            "16/16 [==============================] - 9s 559ms/step - loss: 0.0670 - accuracy: 0.9423 - val_loss: 0.7160 - val_accuracy: 0.6399\n",
            "Epoch 75/1000\n",
            "16/16 [==============================] - 9s 563ms/step - loss: 0.0653 - accuracy: 0.9437 - val_loss: 0.7189 - val_accuracy: 0.6404\n",
            "Epoch 76/1000\n",
            "16/16 [==============================] - 9s 557ms/step - loss: 0.0641 - accuracy: 0.9458 - val_loss: 0.7199 - val_accuracy: 0.6420\n",
            "Epoch 77/1000\n",
            "16/16 [==============================] - 9s 544ms/step - loss: 0.0639 - accuracy: 0.9458 - val_loss: 0.7353 - val_accuracy: 0.6414\n",
            "Epoch 78/1000\n",
            "16/16 [==============================] - 9s 555ms/step - loss: 0.0632 - accuracy: 0.9483 - val_loss: 0.7380 - val_accuracy: 0.6425\n",
            "Epoch 79/1000\n",
            "16/16 [==============================] - 9s 559ms/step - loss: 0.0630 - accuracy: 0.9472 - val_loss: 0.7491 - val_accuracy: 0.6414\n",
            "Epoch 80/1000\n",
            "16/16 [==============================] - 9s 543ms/step - loss: 0.0617 - accuracy: 0.9480 - val_loss: 0.7510 - val_accuracy: 0.6435\n",
            "Epoch 81/1000\n",
            "16/16 [==============================] - 9s 553ms/step - loss: 0.0634 - accuracy: 0.9457 - val_loss: 0.7458 - val_accuracy: 0.6404\n",
            "Epoch 82/1000\n",
            "16/16 [==============================] - 9s 538ms/step - loss: 0.0636 - accuracy: 0.9444 - val_loss: 0.7582 - val_accuracy: 0.6409\n",
            "Epoch 83/1000\n",
            "16/16 [==============================] - 9s 551ms/step - loss: 0.0612 - accuracy: 0.9491 - val_loss: 0.7644 - val_accuracy: 0.6399\n",
            "Epoch 84/1000\n",
            "16/16 [==============================] - 9s 554ms/step - loss: 0.0599 - accuracy: 0.9496 - val_loss: 0.7755 - val_accuracy: 0.6414\n",
            "Epoch 85/1000\n",
            "16/16 [==============================] - 10s 601ms/step - loss: 0.0606 - accuracy: 0.9489 - val_loss: 0.7785 - val_accuracy: 0.6394\n",
            "Epoch 86/1000\n",
            "16/16 [==============================] - 9s 549ms/step - loss: 0.0588 - accuracy: 0.9499 - val_loss: 0.7966 - val_accuracy: 0.6359\n",
            "Epoch 87/1000\n",
            "16/16 [==============================] - 9s 540ms/step - loss: 0.0593 - accuracy: 0.9502 - val_loss: 0.8004 - val_accuracy: 0.6333\n",
            "Epoch 88/1000\n",
            "16/16 [==============================] - 9s 543ms/step - loss: 0.0567 - accuracy: 0.9529 - val_loss: 0.8046 - val_accuracy: 0.6333\n",
            "Epoch 89/1000\n",
            "16/16 [==============================] - 9s 546ms/step - loss: 0.0572 - accuracy: 0.9514 - val_loss: 0.8078 - val_accuracy: 0.6379\n",
            "Epoch 90/1000\n",
            "16/16 [==============================] - 9s 549ms/step - loss: 0.0555 - accuracy: 0.9537 - val_loss: 0.8258 - val_accuracy: 0.6338\n",
            "Epoch 91/1000\n",
            "16/16 [==============================] - 9s 542ms/step - loss: 0.0576 - accuracy: 0.9523 - val_loss: 0.8235 - val_accuracy: 0.6384\n",
            "Epoch 92/1000\n",
            "16/16 [==============================] - 9s 541ms/step - loss: 0.0591 - accuracy: 0.9496 - val_loss: 0.8125 - val_accuracy: 0.6353\n",
            "Epoch 93/1000\n",
            "16/16 [==============================] - 9s 546ms/step - loss: 0.0565 - accuracy: 0.9536 - val_loss: 0.8279 - val_accuracy: 0.6308\n"
          ]
        }
      ],
      "source": [
        "history = model.fit(train_data, epochs=1000, validation_data=valid_data, callbacks=[callback])"
      ]
    },
    {
      "cell_type": "code",
      "execution_count": 115,
      "metadata": {
        "colab": {
          "base_uri": "https://localhost:8080/"
        },
        "id": "tSAdLYj8FfIM",
        "outputId": "e8852999-af6a-40b8-e400-c15181d3f130"
      },
      "outputs": [
        {
          "output_type": "stream",
          "name": "stdout",
          "text": [
            "2/2 [==============================] - 0s 70ms/step - loss: 0.8167 - accuracy: 0.6420\n"
          ]
        },
        {
          "output_type": "execute_result",
          "data": {
            "text/plain": [
              "[0.8166742920875549, 0.641950249671936]"
            ]
          },
          "metadata": {},
          "execution_count": 115
        }
      ],
      "source": [
        "model.evaluate(test_data)"
      ]
    },
    {
      "cell_type": "code",
      "source": [],
      "metadata": {
        "id": "QXDs4MGP-Ze8"
      },
      "execution_count": null,
      "outputs": []
    },
    {
      "cell_type": "markdown",
      "metadata": {
        "id": "gRX5mI6nNiE3"
      },
      "source": [
        "# LSTM"
      ]
    },
    {
      "cell_type": "code",
      "execution_count": 116,
      "metadata": {
        "id": "TNzK6f_5NYzj"
      },
      "outputs": [],
      "source": [
        "encoder = tf.keras.layers.TextVectorization(max_tokens=2000)\n",
        "encoder.adapt(train_data.map(lambda text, label: text))"
      ]
    },
    {
      "cell_type": "code",
      "execution_count": 117,
      "metadata": {
        "colab": {
          "base_uri": "https://localhost:8080/"
        },
        "id": "GpcGB0JsN4ot",
        "outputId": "ddca2bd4-3071-4a0f-90dc-71f4b6b97dc3"
      },
      "outputs": [
        {
          "output_type": "execute_result",
          "data": {
            "text/plain": [
              "array(['', '[UNK]', 'i', 'to', 'and', 'the', 'a', 'my', 'of', 'it', 'me',\n",
              "       'that', 'in', 'is', 'but', 'for', 'have', 'this', 'with', 'was'],\n",
              "      dtype='<U15')"
            ]
          },
          "metadata": {},
          "execution_count": 117
        }
      ],
      "source": [
        "vocab = np.array(encoder.get_vocabulary())\n",
        "vocab[:20]"
      ]
    },
    {
      "cell_type": "code",
      "execution_count": 118,
      "metadata": {
        "id": "H-Y26eI9N_Zb"
      },
      "outputs": [],
      "source": [
        "model = tf.keras.Sequential([\n",
        "    encoder,\n",
        "    tf.keras.layers.Embedding(\n",
        "        input_dim=len(encoder.get_vocabulary()),\n",
        "        output_dim=32,\n",
        "        mask_zero=True\n",
        "    ),\n",
        "    tf.keras.layers.LSTM(32),\n",
        "    tf.keras.layers.Dense(32, activation='relu'),\n",
        "    tf.keras.layers.Dropout(0.4),\n",
        "    tf.keras.layers.Dense(6, activation='sigmoid')\n",
        "])"
      ]
    },
    {
      "cell_type": "code",
      "execution_count": 119,
      "metadata": {
        "id": "73gAWfWjOurW"
      },
      "outputs": [],
      "source": [
        "model.compile(optimizer=tf.keras.optimizers.Adam(learning_rate=0.001),\n",
        "              loss=tf.keras.losses.BinaryCrossentropy(),\n",
        "              metrics=['accuracy'])"
      ]
    },
    {
      "cell_type": "code",
      "execution_count": 120,
      "metadata": {
        "colab": {
          "base_uri": "https://localhost:8080/",
          "height": 727
        },
        "id": "vs2c3swjOzS9",
        "outputId": "2701917b-31f5-4465-fca8-095ffc6fadeb"
      },
      "outputs": [
        {
          "output_type": "error",
          "ename": "ValueError",
          "evalue": "ignored",
          "traceback": [
            "\u001b[0;31m---------------------------------------------------------------------------\u001b[0m",
            "\u001b[0;31mValueError\u001b[0m                                Traceback (most recent call last)",
            "\u001b[0;32m<ipython-input-120-bfcdebcad2da>\u001b[0m in \u001b[0;36m<module>\u001b[0;34m\u001b[0m\n\u001b[0;32m----> 1\u001b[0;31m \u001b[0mmodel\u001b[0m\u001b[0;34m.\u001b[0m\u001b[0mevaluate\u001b[0m\u001b[0;34m(\u001b[0m\u001b[0mtrain_data\u001b[0m\u001b[0;34m)\u001b[0m\u001b[0;34m\u001b[0m\u001b[0;34m\u001b[0m\u001b[0m\n\u001b[0m\u001b[1;32m      2\u001b[0m \u001b[0mmodel\u001b[0m\u001b[0;34m.\u001b[0m\u001b[0mevaluate\u001b[0m\u001b[0;34m(\u001b[0m\u001b[0mvalid_data\u001b[0m\u001b[0;34m)\u001b[0m\u001b[0;34m\u001b[0m\u001b[0;34m\u001b[0m\u001b[0m\n",
            "\u001b[0;32m/usr/local/lib/python3.7/dist-packages/keras/utils/traceback_utils.py\u001b[0m in \u001b[0;36merror_handler\u001b[0;34m(*args, **kwargs)\u001b[0m\n\u001b[1;32m     65\u001b[0m     \u001b[0;32mexcept\u001b[0m \u001b[0mException\u001b[0m \u001b[0;32mas\u001b[0m \u001b[0me\u001b[0m\u001b[0;34m:\u001b[0m  \u001b[0;31m# pylint: disable=broad-except\u001b[0m\u001b[0;34m\u001b[0m\u001b[0;34m\u001b[0m\u001b[0m\n\u001b[1;32m     66\u001b[0m       \u001b[0mfiltered_tb\u001b[0m \u001b[0;34m=\u001b[0m \u001b[0m_process_traceback_frames\u001b[0m\u001b[0;34m(\u001b[0m\u001b[0me\u001b[0m\u001b[0;34m.\u001b[0m\u001b[0m__traceback__\u001b[0m\u001b[0;34m)\u001b[0m\u001b[0;34m\u001b[0m\u001b[0;34m\u001b[0m\u001b[0m\n\u001b[0;32m---> 67\u001b[0;31m       \u001b[0;32mraise\u001b[0m \u001b[0me\u001b[0m\u001b[0;34m.\u001b[0m\u001b[0mwith_traceback\u001b[0m\u001b[0;34m(\u001b[0m\u001b[0mfiltered_tb\u001b[0m\u001b[0;34m)\u001b[0m \u001b[0;32mfrom\u001b[0m \u001b[0;32mNone\u001b[0m\u001b[0;34m\u001b[0m\u001b[0;34m\u001b[0m\u001b[0m\n\u001b[0m\u001b[1;32m     68\u001b[0m     \u001b[0;32mfinally\u001b[0m\u001b[0;34m:\u001b[0m\u001b[0;34m\u001b[0m\u001b[0;34m\u001b[0m\u001b[0m\n\u001b[1;32m     69\u001b[0m       \u001b[0;32mdel\u001b[0m \u001b[0mfiltered_tb\u001b[0m\u001b[0;34m\u001b[0m\u001b[0;34m\u001b[0m\u001b[0m\n",
            "\u001b[0;32m/usr/local/lib/python3.7/dist-packages/keras/engine/training.py\u001b[0m in \u001b[0;36mtf__test_function\u001b[0;34m(iterator)\u001b[0m\n\u001b[1;32m     13\u001b[0m                 \u001b[0;32mtry\u001b[0m\u001b[0;34m:\u001b[0m\u001b[0;34m\u001b[0m\u001b[0;34m\u001b[0m\u001b[0m\n\u001b[1;32m     14\u001b[0m                     \u001b[0mdo_return\u001b[0m \u001b[0;34m=\u001b[0m \u001b[0;32mTrue\u001b[0m\u001b[0;34m\u001b[0m\u001b[0;34m\u001b[0m\u001b[0m\n\u001b[0;32m---> 15\u001b[0;31m                     \u001b[0mretval_\u001b[0m \u001b[0;34m=\u001b[0m \u001b[0mag__\u001b[0m\u001b[0;34m.\u001b[0m\u001b[0mconverted_call\u001b[0m\u001b[0;34m(\u001b[0m\u001b[0mag__\u001b[0m\u001b[0;34m.\u001b[0m\u001b[0mld\u001b[0m\u001b[0;34m(\u001b[0m\u001b[0mstep_function\u001b[0m\u001b[0;34m)\u001b[0m\u001b[0;34m,\u001b[0m \u001b[0;34m(\u001b[0m\u001b[0mag__\u001b[0m\u001b[0;34m.\u001b[0m\u001b[0mld\u001b[0m\u001b[0;34m(\u001b[0m\u001b[0mself\u001b[0m\u001b[0;34m)\u001b[0m\u001b[0;34m,\u001b[0m \u001b[0mag__\u001b[0m\u001b[0;34m.\u001b[0m\u001b[0mld\u001b[0m\u001b[0;34m(\u001b[0m\u001b[0miterator\u001b[0m\u001b[0;34m)\u001b[0m\u001b[0;34m)\u001b[0m\u001b[0;34m,\u001b[0m \u001b[0;32mNone\u001b[0m\u001b[0;34m,\u001b[0m \u001b[0mfscope\u001b[0m\u001b[0;34m)\u001b[0m\u001b[0;34m\u001b[0m\u001b[0;34m\u001b[0m\u001b[0m\n\u001b[0m\u001b[1;32m     16\u001b[0m                 \u001b[0;32mexcept\u001b[0m\u001b[0;34m:\u001b[0m\u001b[0;34m\u001b[0m\u001b[0;34m\u001b[0m\u001b[0m\n\u001b[1;32m     17\u001b[0m                     \u001b[0mdo_return\u001b[0m \u001b[0;34m=\u001b[0m \u001b[0;32mFalse\u001b[0m\u001b[0;34m\u001b[0m\u001b[0;34m\u001b[0m\u001b[0m\n",
            "\u001b[0;31mValueError\u001b[0m: in user code:\n\n    File \"/usr/local/lib/python3.7/dist-packages/keras/engine/training.py\", line 1557, in test_function  *\n        return step_function(self, iterator)\n    File \"/usr/local/lib/python3.7/dist-packages/keras/engine/training.py\", line 1546, in step_function  **\n        outputs = model.distribute_strategy.run(run_step, args=(data,))\n    File \"/usr/local/lib/python3.7/dist-packages/keras/engine/training.py\", line 1535, in run_step  **\n        outputs = model.test_step(data)\n    File \"/usr/local/lib/python3.7/dist-packages/keras/engine/training.py\", line 1501, in test_step\n        self.compute_loss(x, y, y_pred, sample_weight)\n    File \"/usr/local/lib/python3.7/dist-packages/keras/engine/training.py\", line 949, in compute_loss\n        y, y_pred, sample_weight, regularization_losses=self.losses)\n    File \"/usr/local/lib/python3.7/dist-packages/keras/engine/compile_utils.py\", line 201, in __call__\n        loss_value = loss_obj(y_t, y_p, sample_weight=sw)\n    File \"/usr/local/lib/python3.7/dist-packages/keras/losses.py\", line 139, in __call__\n        losses = call_fn(y_true, y_pred)\n    File \"/usr/local/lib/python3.7/dist-packages/keras/losses.py\", line 243, in call  **\n        return ag_fn(y_true, y_pred, **self._fn_kwargs)\n    File \"/usr/local/lib/python3.7/dist-packages/keras/losses.py\", line 1930, in binary_crossentropy\n        backend.binary_crossentropy(y_true, y_pred, from_logits=from_logits),\n    File \"/usr/local/lib/python3.7/dist-packages/keras/backend.py\", line 5283, in binary_crossentropy\n        return tf.nn.sigmoid_cross_entropy_with_logits(labels=target, logits=output)\n\n    ValueError: `logits` and `labels` must have the same shape, received ((None, 1) vs (None, 6)).\n"
          ]
        }
      ],
      "source": [
        "model.evaluate(train_data)\n",
        "model.evaluate(valid_data)"
      ]
    },
    {
      "cell_type": "code",
      "execution_count": null,
      "metadata": {
        "id": "ykUKXvEEO28V"
      },
      "outputs": [],
      "source": [
        "history = model.fit(train_data, epochs=5, validation_data=valid_data)"
      ]
    },
    {
      "cell_type": "code",
      "execution_count": null,
      "metadata": {
        "id": "o4qO0hkHPEtb"
      },
      "outputs": [],
      "source": [
        "model.evaluate(test_data)"
      ]
    }
  ]
}