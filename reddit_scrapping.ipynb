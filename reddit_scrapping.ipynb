{
  "cells": [
    {
      "cell_type": "markdown",
      "metadata": {
        "id": "view-in-github",
        "colab_type": "text"
      },
      "source": [
        "<a href=\"https://colab.research.google.com/github/pedrov718/classifying_mental_health_with_NN/blob/main/reddit_scrapping.ipynb\" target=\"_parent\"><img src=\"https://colab.research.google.com/assets/colab-badge.svg\" alt=\"Open In Colab\"/></a>"
      ]
    },
    {
      "cell_type": "markdown",
      "metadata": {
        "id": "U7NxTJJXLMXU"
      },
      "source": [
        "## Scraping Posts and Comments from 8 different mental health subreddits"
      ]
    },
    {
      "cell_type": "code",
      "source": [
        "import warnings\n",
        "warnings.filterwarnings(\"ignore\")"
      ],
      "metadata": {
        "id": "CMV0AdPVVolZ"
      },
      "execution_count": 12,
      "outputs": []
    },
    {
      "cell_type": "code",
      "execution_count": 13,
      "metadata": {
        "colab": {
          "base_uri": "https://localhost:8080/"
        },
        "id": "sIrXM8OkLMXU",
        "outputId": "05efe63a-ef8a-4a9c-d650-6373550b8edf"
      },
      "outputs": [
        {
          "output_type": "stream",
          "name": "stdout",
          "text": [
            "Looking in indexes: https://pypi.org/simple, https://us-python.pkg.dev/colab-wheels/public/simple/\n",
            "Requirement already satisfied: praw in /usr/local/lib/python3.7/dist-packages (7.6.0)\n",
            "Requirement already satisfied: websocket-client>=0.54.0 in /usr/local/lib/python3.7/dist-packages (from praw) (1.4.1)\n",
            "Requirement already satisfied: prawcore<3,>=2.1 in /usr/local/lib/python3.7/dist-packages (from praw) (2.3.0)\n",
            "Requirement already satisfied: update-checker>=0.18 in /usr/local/lib/python3.7/dist-packages (from praw) (0.18.0)\n",
            "Requirement already satisfied: requests<3.0,>=2.6.0 in /usr/local/lib/python3.7/dist-packages (from prawcore<3,>=2.1->praw) (2.23.0)\n",
            "Requirement already satisfied: chardet<4,>=3.0.2 in /usr/local/lib/python3.7/dist-packages (from requests<3.0,>=2.6.0->prawcore<3,>=2.1->praw) (3.0.4)\n",
            "Requirement already satisfied: certifi>=2017.4.17 in /usr/local/lib/python3.7/dist-packages (from requests<3.0,>=2.6.0->prawcore<3,>=2.1->praw) (2022.9.24)\n",
            "Requirement already satisfied: idna<3,>=2.5 in /usr/local/lib/python3.7/dist-packages (from requests<3.0,>=2.6.0->prawcore<3,>=2.1->praw) (2.10)\n",
            "Requirement already satisfied: urllib3!=1.25.0,!=1.25.1,<1.26,>=1.21.1 in /usr/local/lib/python3.7/dist-packages (from requests<3.0,>=2.6.0->prawcore<3,>=2.1->praw) (1.24.3)\n"
          ]
        }
      ],
      "source": [
        "!pip install praw"
      ]
    },
    {
      "cell_type": "code",
      "execution_count": 22,
      "metadata": {
        "colab": {
          "base_uri": "https://localhost:8080/"
        },
        "id": "RF746lubLMXV",
        "outputId": "98617f1a-e6ca-4759-9dde-76e85e01f334"
      },
      "outputs": [
        {
          "output_type": "stream",
          "name": "stdout",
          "text": [
            "CPU times: user 398 µs, sys: 319 µs, total: 717 µs\n",
            "Wall time: 738 µs\n"
          ]
        }
      ],
      "source": [
        "%%time\n",
        "\n",
        "import praw\n",
        "import pandas as pd\n",
        "from praw.models import MoreComments\n",
        "\n",
        "\n",
        "#Create an instance of reddit class\n",
        "reddit = praw.Reddit(client_id=\"GI_ZqSXXcV12KPsNELGvAw\", #my client id\n",
        "                     client_secret=\"G5uosCAwkAEPRag1h8x01NfYosmy0g\",  #your client secret\n",
        "                     user_agent=\"Pedro_Velazquez\", #user agent name\n",
        "                     username = \"pedrov718\",     # your reddit username\n",
        "                     password = \"Chispit@73\")     # your reddit password\n",
        "\n",
        "\n",
        "# Create sub-reddit instance\n",
        "subreddits = ['depression','Anxiety', 'bipolar', 'BPD', 'schizophrenia', 'autism']\n",
        "\n",
        "posts_dict = {'top': {\"Title\": [], \"Post Text\": [],\n",
        "              \"ID\": [], \"Score\": [],\n",
        "              \"Total Comments\": [], \"Origin\": [], \"Post URL\": []\n",
        "              }, 'hot': {\"Title\": [], \"Post Text\": [],\n",
        "              \"ID\": [], \"Score\": [],\n",
        "              \"Total Comments\": [], \"Origin\": [], \"Post URL\": []\n",
        "              }, 'new': {\"Title\": [], \"Post Text\": [],\n",
        "              \"ID\": [], \"Score\": [],\n",
        "              \"Total Comments\": [], \"Origin\": [], \"Post URL\": []\n",
        "              }, 'controversial': {\"Title\": [], \"Post Text\": [],\n",
        "              \"ID\": [], \"Score\": [],\n",
        "              \"Total Comments\": [], \"Origin\": [], \"Post URL\": []\n",
        "              }}\n",
        "\n",
        "filters = ['top', 'hot', 'new', 'controversial']"
      ]
    },
    {
      "cell_type": "code",
      "source": [
        "for sub in subreddits:\n",
        "  subreddit = reddit.subreddit(sub)\n",
        "\n",
        "  post_filters = [subreddit.top(limit = 1000), subreddit.hot(limit = 1000), \n",
        "                  subreddit.new(limit = 1000), subreddit.controversial(limit = 1000)]\n",
        "\n",
        "  for filter, posts in zip(filters, post_filters): \n",
        "    # Scraping the top posts of the current month\n",
        "    print(filter, posts)\n",
        "    for post in posts:\n",
        "      # Title of each post\n",
        "      posts_dict[filter][\"Title\"].append(post.title)\n",
        "\n",
        "      # Text inside a post\n",
        "      posts_dict[filter][\"Post Text\"].append(post.selftext)\n",
        "\n",
        "      # Unique ID of each post\n",
        "      posts_dict[filter][\"ID\"].append(post.id)\n",
        "\n",
        "      # The score of a post\n",
        "      posts_dict[filter][\"Score\"].append(post.score)\n",
        "\n",
        "      # Total number of comments inside the post\n",
        "      posts_dict[filter][\"Total Comments\"].append(post.num_comments)\n",
        "\n",
        "      # Name of Each Subreddit for each Post\n",
        "      posts_dict[filter][\"Origin\"].append(sub)\n",
        "\n",
        "      # URL of each post\n",
        "      posts_dict[filter][\"Post URL\"].append(post.url)"
      ],
      "metadata": {
        "id": "Kq1R_WmlEom7"
      },
      "execution_count": null,
      "outputs": []
    },
    {
      "cell_type": "code",
      "source": [
        "posts_dict['top']['Post Text'][:10]"
      ],
      "metadata": {
        "colab": {
          "base_uri": "https://localhost:8080/"
        },
        "id": "z96iKW68RK7i",
        "outputId": "73431d79-884d-4ec2-90c7-dedc5eb22cdc"
      },
      "execution_count": 46,
      "outputs": [
        {
          "output_type": "execute_result",
          "data": {
            "text/plain": [
              "['This is me. Don’t get me wrong, it’s better than don’t-leave-my-bed-for-a-week depression. I am grateful I can be an independent person. But there is something uniquely horrible about being able to go to work every day, occasionally clean up after yourself, pay your bills, generally put yourself together enough to look like a human being... but that’s it. Nothing else. No social life. No hobbies. Constantly battling your mind. And being absolutely fucking exhausted all the time.',\n",
              " '',\n",
              " 'But here I am, 24 years old man and doing exactly that.',\n",
              " 'I’m trapped inside. Does anyone else get that feeling? My memories from the past few years are shoddy at best. I think I’m losing it.',\n",
              " \"I read a lot of posts on here of people struggling with daily, debilitating depression that plagues every aspect of their lives, making it difficult to do small things like even take a shower. I feel that I am on the opposite side of the spectrum and wanted to share that it is equally as horrible.\\n\\nFrom an outsider's perspective, I appear to be a very happy and stable individual. I have a financially secure job and I go to work every day and not only try my best but actively try to get along with others and make people laugh every day. My coworkers like me, and some look up to me. No one would think I have any problems at all. However, I feel like I am hidden behind a veil, and when I come home from work and when I am in the privacy of my home, I am in such crippling depression. I have such terrible episodes of sadness. I hate myself. I over-analyze everything stupid I do or say throughout the day and I replay it in my mind constantly and belittle myself. I don't feel proud of myself for any of my accomplishments and genuinely don't know why anyone even likes me. And yet I still get up every day, live this routine, and put on a facade like I am okay. It feels like I am living a double life that I cannot escape.\",\n",
              " 'Thank you, that really helps. Now I feel ten times worse.',\n",
              " 'I don’t know if that makes sense. What I mean is that I stay up as late as possible wasting time because I know that if I go to sleep, I’ll wake up and have to go to school. I usually go to bed at around 3:30am and get up at 6am and it’s destroying me, I’ve been doing this for months and I’m physically weak and exhausted constantly because of it but my depression and anxiety demand it. And they always seem to get their way. \\n\\nEdit: I’m really glad that this spoke to so many people, it feels good knowing I’m not alone. Sending lots of love to you all. This isn’t easy but I believe in you ❤️',\n",
              " \"Does anyone else feel this way?  This has been crossing my mind a lot lately\\n\\nEDIT: I just want to thank everyone for the thoughtful, kind comments I've been recieving.  It's been a nice change and I really appreciate it.  You guys are the best.  :)\",\n",
              " 'The first 6 words of the title is accurate too.',\n",
              " 'Fuck 😃']"
            ]
          },
          "metadata": {},
          "execution_count": 46
        }
      ]
    },
    {
      "cell_type": "code",
      "source": [
        "reddit_posts = {}\n",
        "# saving dataframes to a dataframe dictionary\n",
        "\n",
        "filters = ['top', 'hot', 'new', 'controversial']\n",
        "\n",
        "for filter in filters:\n",
        "  reddit_posts[filter] = pd.DataFrame.from_dict(posts_dict[filter])\n",
        "    "
      ],
      "metadata": {
        "id": "R23Gu1zrCicU"
      },
      "execution_count": 32,
      "outputs": []
    },
    {
      "cell_type": "code",
      "source": [
        "for filter in filters:\n",
        "  reddit_posts[filter]['text'] = reddit_posts[filter]['Title'] +  reddit_posts[filter]['Post Text']"
      ],
      "metadata": {
        "id": "3hgo4On_XNk3"
      },
      "execution_count": 40,
      "outputs": []
    },
    {
      "cell_type": "code",
      "source": [
        "posts = pd.concat([reddit_posts['top'],reddit_posts['hot'], reddit_posts['new'], reddit_posts['controversial']]).drop_duplicates().reset_index(drop=True)"
      ],
      "metadata": {
        "id": "DfonkcUKYhYr"
      },
      "execution_count": 43,
      "outputs": []
    },
    {
      "cell_type": "code",
      "source": [
        "posts.shape"
      ],
      "metadata": {
        "colab": {
          "base_uri": "https://localhost:8080/"
        },
        "id": "1nl6EJYcZOhi",
        "outputId": "6c3923c5-4674-43fc-8392-3350ea0457f6"
      },
      "execution_count": 45,
      "outputs": [
        {
          "output_type": "execute_result",
          "data": {
            "text/plain": [
              "(19687, 8)"
            ]
          },
          "metadata": {},
          "execution_count": 45
        }
      ]
    },
    {
      "cell_type": "code",
      "source": [
        "posts.groupby(posts['Origin']).count()"
      ],
      "metadata": {
        "colab": {
          "base_uri": "https://localhost:8080/",
          "height": 269
        },
        "id": "Mn_6KLLNZsoP",
        "outputId": "c3002295-8342-4f97-c547-23a2b58f906c"
      },
      "execution_count": 54,
      "outputs": [
        {
          "output_type": "execute_result",
          "data": {
            "text/plain": [
              "               Title  Post Text    ID  Score  Total Comments  Post URL  text\n",
              "Origin                                                                      \n",
              "Anxiety         3119       3119  3119   3119            3119      3119  3119\n",
              "BPD             3260       3260  3260   3260            3260      3260  3260\n",
              "autism          3444       3444  3444   3444            3444      3444  3444\n",
              "bipolar         3272       3272  3272   3272            3272      3272  3272\n",
              "depression      3301       3301  3301   3301            3301      3301  3301\n",
              "schizophrenia   3291       3291  3291   3291            3291      3291  3291"
            ],
            "text/html": [
              "\n",
              "  <div id=\"df-b3a79fb5-24da-4d80-8634-ee378f914afc\">\n",
              "    <div class=\"colab-df-container\">\n",
              "      <div>\n",
              "<style scoped>\n",
              "    .dataframe tbody tr th:only-of-type {\n",
              "        vertical-align: middle;\n",
              "    }\n",
              "\n",
              "    .dataframe tbody tr th {\n",
              "        vertical-align: top;\n",
              "    }\n",
              "\n",
              "    .dataframe thead th {\n",
              "        text-align: right;\n",
              "    }\n",
              "</style>\n",
              "<table border=\"1\" class=\"dataframe\">\n",
              "  <thead>\n",
              "    <tr style=\"text-align: right;\">\n",
              "      <th></th>\n",
              "      <th>Title</th>\n",
              "      <th>Post Text</th>\n",
              "      <th>ID</th>\n",
              "      <th>Score</th>\n",
              "      <th>Total Comments</th>\n",
              "      <th>Post URL</th>\n",
              "      <th>text</th>\n",
              "    </tr>\n",
              "    <tr>\n",
              "      <th>Origin</th>\n",
              "      <th></th>\n",
              "      <th></th>\n",
              "      <th></th>\n",
              "      <th></th>\n",
              "      <th></th>\n",
              "      <th></th>\n",
              "      <th></th>\n",
              "    </tr>\n",
              "  </thead>\n",
              "  <tbody>\n",
              "    <tr>\n",
              "      <th>Anxiety</th>\n",
              "      <td>3119</td>\n",
              "      <td>3119</td>\n",
              "      <td>3119</td>\n",
              "      <td>3119</td>\n",
              "      <td>3119</td>\n",
              "      <td>3119</td>\n",
              "      <td>3119</td>\n",
              "    </tr>\n",
              "    <tr>\n",
              "      <th>BPD</th>\n",
              "      <td>3260</td>\n",
              "      <td>3260</td>\n",
              "      <td>3260</td>\n",
              "      <td>3260</td>\n",
              "      <td>3260</td>\n",
              "      <td>3260</td>\n",
              "      <td>3260</td>\n",
              "    </tr>\n",
              "    <tr>\n",
              "      <th>autism</th>\n",
              "      <td>3444</td>\n",
              "      <td>3444</td>\n",
              "      <td>3444</td>\n",
              "      <td>3444</td>\n",
              "      <td>3444</td>\n",
              "      <td>3444</td>\n",
              "      <td>3444</td>\n",
              "    </tr>\n",
              "    <tr>\n",
              "      <th>bipolar</th>\n",
              "      <td>3272</td>\n",
              "      <td>3272</td>\n",
              "      <td>3272</td>\n",
              "      <td>3272</td>\n",
              "      <td>3272</td>\n",
              "      <td>3272</td>\n",
              "      <td>3272</td>\n",
              "    </tr>\n",
              "    <tr>\n",
              "      <th>depression</th>\n",
              "      <td>3301</td>\n",
              "      <td>3301</td>\n",
              "      <td>3301</td>\n",
              "      <td>3301</td>\n",
              "      <td>3301</td>\n",
              "      <td>3301</td>\n",
              "      <td>3301</td>\n",
              "    </tr>\n",
              "    <tr>\n",
              "      <th>schizophrenia</th>\n",
              "      <td>3291</td>\n",
              "      <td>3291</td>\n",
              "      <td>3291</td>\n",
              "      <td>3291</td>\n",
              "      <td>3291</td>\n",
              "      <td>3291</td>\n",
              "      <td>3291</td>\n",
              "    </tr>\n",
              "  </tbody>\n",
              "</table>\n",
              "</div>\n",
              "      <button class=\"colab-df-convert\" onclick=\"convertToInteractive('df-b3a79fb5-24da-4d80-8634-ee378f914afc')\"\n",
              "              title=\"Convert this dataframe to an interactive table.\"\n",
              "              style=\"display:none;\">\n",
              "        \n",
              "  <svg xmlns=\"http://www.w3.org/2000/svg\" height=\"24px\"viewBox=\"0 0 24 24\"\n",
              "       width=\"24px\">\n",
              "    <path d=\"M0 0h24v24H0V0z\" fill=\"none\"/>\n",
              "    <path d=\"M18.56 5.44l.94 2.06.94-2.06 2.06-.94-2.06-.94-.94-2.06-.94 2.06-2.06.94zm-11 1L8.5 8.5l.94-2.06 2.06-.94-2.06-.94L8.5 2.5l-.94 2.06-2.06.94zm10 10l.94 2.06.94-2.06 2.06-.94-2.06-.94-.94-2.06-.94 2.06-2.06.94z\"/><path d=\"M17.41 7.96l-1.37-1.37c-.4-.4-.92-.59-1.43-.59-.52 0-1.04.2-1.43.59L10.3 9.45l-7.72 7.72c-.78.78-.78 2.05 0 2.83L4 21.41c.39.39.9.59 1.41.59.51 0 1.02-.2 1.41-.59l7.78-7.78 2.81-2.81c.8-.78.8-2.07 0-2.86zM5.41 20L4 18.59l7.72-7.72 1.47 1.35L5.41 20z\"/>\n",
              "  </svg>\n",
              "      </button>\n",
              "      \n",
              "  <style>\n",
              "    .colab-df-container {\n",
              "      display:flex;\n",
              "      flex-wrap:wrap;\n",
              "      gap: 12px;\n",
              "    }\n",
              "\n",
              "    .colab-df-convert {\n",
              "      background-color: #E8F0FE;\n",
              "      border: none;\n",
              "      border-radius: 50%;\n",
              "      cursor: pointer;\n",
              "      display: none;\n",
              "      fill: #1967D2;\n",
              "      height: 32px;\n",
              "      padding: 0 0 0 0;\n",
              "      width: 32px;\n",
              "    }\n",
              "\n",
              "    .colab-df-convert:hover {\n",
              "      background-color: #E2EBFA;\n",
              "      box-shadow: 0px 1px 2px rgba(60, 64, 67, 0.3), 0px 1px 3px 1px rgba(60, 64, 67, 0.15);\n",
              "      fill: #174EA6;\n",
              "    }\n",
              "\n",
              "    [theme=dark] .colab-df-convert {\n",
              "      background-color: #3B4455;\n",
              "      fill: #D2E3FC;\n",
              "    }\n",
              "\n",
              "    [theme=dark] .colab-df-convert:hover {\n",
              "      background-color: #434B5C;\n",
              "      box-shadow: 0px 1px 3px 1px rgba(0, 0, 0, 0.15);\n",
              "      filter: drop-shadow(0px 1px 2px rgba(0, 0, 0, 0.3));\n",
              "      fill: #FFFFFF;\n",
              "    }\n",
              "  </style>\n",
              "\n",
              "      <script>\n",
              "        const buttonEl =\n",
              "          document.querySelector('#df-b3a79fb5-24da-4d80-8634-ee378f914afc button.colab-df-convert');\n",
              "        buttonEl.style.display =\n",
              "          google.colab.kernel.accessAllowed ? 'block' : 'none';\n",
              "\n",
              "        async function convertToInteractive(key) {\n",
              "          const element = document.querySelector('#df-b3a79fb5-24da-4d80-8634-ee378f914afc');\n",
              "          const dataTable =\n",
              "            await google.colab.kernel.invokeFunction('convertToInteractive',\n",
              "                                                     [key], {});\n",
              "          if (!dataTable) return;\n",
              "\n",
              "          const docLinkHtml = 'Like what you see? Visit the ' +\n",
              "            '<a target=\"_blank\" href=https://colab.research.google.com/notebooks/data_table.ipynb>data table notebook</a>'\n",
              "            + ' to learn more about interactive tables.';\n",
              "          element.innerHTML = '';\n",
              "          dataTable['output_type'] = 'display_data';\n",
              "          await google.colab.output.renderOutput(dataTable, element);\n",
              "          const docLink = document.createElement('div');\n",
              "          docLink.innerHTML = docLinkHtml;\n",
              "          element.appendChild(docLink);\n",
              "        }\n",
              "      </script>\n",
              "    </div>\n",
              "  </div>\n",
              "  "
            ]
          },
          "metadata": {},
          "execution_count": 54
        }
      ]
    },
    {
      "cell_type": "code",
      "source": [
        "#posts.to_excel('mental_health_posts_scraped.xlsx')"
      ],
      "metadata": {
        "id": "l8JgF2wkTVuH"
      },
      "execution_count": 55,
      "outputs": []
    }
  ],
  "metadata": {
    "kernelspec": {
      "display_name": "Python 3 (ipykernel)",
      "language": "python",
      "name": "python3"
    },
    "language_info": {
      "codemirror_mode": {
        "name": "ipython",
        "version": 3
      },
      "file_extension": ".py",
      "mimetype": "text/x-python",
      "name": "python",
      "nbconvert_exporter": "python",
      "pygments_lexer": "ipython3",
      "version": "3.9.7"
    },
    "colab": {
      "provenance": [],
      "collapsed_sections": [],
      "include_colab_link": true
    }
  },
  "nbformat": 4,
  "nbformat_minor": 0
}