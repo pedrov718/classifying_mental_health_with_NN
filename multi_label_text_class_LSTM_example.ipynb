{
 "cells": [
  {
   "cell_type": "code",
   "execution_count": 1,
   "metadata": {},
   "outputs": [
    {
     "name": "stdout",
     "output_type": "stream",
     "text": [
      "2.10.0\n"
     ]
    }
   ],
   "source": [
    "import tensorflow as tf\n",
    "print(tf.__version__)"
   ]
  },
  {
   "cell_type": "code",
   "execution_count": 2,
   "metadata": {},
   "outputs": [],
   "source": [
    "import csv\n",
    "import numpy as np\n",
    "import pandas as pd\n",
    "import matplotlib.pyplot as plt\n",
    "from tensorflow.keras.preprocessing.text import Tokenizer\n",
    "from tensorflow.keras.preprocessing.sequence import pad_sequences\n",
    "from keras.regularizers import l2"
   ]
  },
  {
   "cell_type": "markdown",
   "metadata": {},
   "source": [
    "Put the hyparameters at the top like this to make it easier to change and edit."
   ]
  },
  {
   "cell_type": "code",
   "execution_count": 3,
   "outputs": [],
   "source": [
    "vocab_size = 5000\n",
    "embedding_dim = 64\n",
    "max_length = 200\n",
    "trunc_type = 'post'\n",
    "padding_type = 'post'\n",
    "oov_tok = '<OOV>'\n",
    "training_portion = .8"
   ],
   "metadata": {
    "collapsed": false
   }
  },
  {
   "cell_type": "markdown",
   "metadata": {},
   "source": [
    "First, let's define two lists that containing articles and labels. In the meantime, we remove stopwords."
   ]
  },
  {
   "cell_type": "markdown",
   "metadata": {},
   "source": [
    "Tokenizer does all the heavy lifting for us. In our articles that it was tokenizing, it will take 5,000 most common words. oov_token is to put a special value in when an unseen word is encountered. This means I want \"OOV\" in bracket to be used to for words that are not in the word index. \"fit_on_text\" will go through all the text and create dictionary like this:"
   ]
  },
  {
   "cell_type": "code",
   "execution_count": 4,
   "outputs": [],
   "source": [
    "df  = pd.read_csv('data\\mental_health_posts_scraped.csv', encoding=\"UTF-8\", index_col= 'Unnamed: 0')\n",
    "\n",
    "df.rename(columns = {\"Origin\":'labels'}, inplace = True)"
   ],
   "metadata": {
    "collapsed": false
   }
  },
  {
   "cell_type": "code",
   "execution_count": 5,
   "outputs": [
    {
     "data": {
      "text/plain": "                                                   Title  \\\n15964  Mania and Spiritual Awakenings Part II: The Ka...   \n\n                                               Post Text      ID  Score  \\\n15964  This post isn't meant to review the album that...  doanm1      0   \n\n       Total Comments   labels  \\\n15964               2  bipolar   \n\n                                                Post URL  \\\n15964  https://www.reddit.com/r/bipolar/comments/doan...   \n\n                                                    text  \n15964  Mania and Spiritual Awakenings Part II: The Ka...  ",
      "text/html": "<div>\n<style scoped>\n    .dataframe tbody tr th:only-of-type {\n        vertical-align: middle;\n    }\n\n    .dataframe tbody tr th {\n        vertical-align: top;\n    }\n\n    .dataframe thead th {\n        text-align: right;\n    }\n</style>\n<table border=\"1\" class=\"dataframe\">\n  <thead>\n    <tr style=\"text-align: right;\">\n      <th></th>\n      <th>Title</th>\n      <th>Post Text</th>\n      <th>ID</th>\n      <th>Score</th>\n      <th>Total Comments</th>\n      <th>labels</th>\n      <th>Post URL</th>\n      <th>text</th>\n    </tr>\n  </thead>\n  <tbody>\n    <tr>\n      <th>15964</th>\n      <td>Mania and Spiritual Awakenings Part II: The Ka...</td>\n      <td>This post isn't meant to review the album that...</td>\n      <td>doanm1</td>\n      <td>0</td>\n      <td>2</td>\n      <td>bipolar</td>\n      <td>https://www.reddit.com/r/bipolar/comments/doan...</td>\n      <td>Mania and Spiritual Awakenings Part II: The Ka...</td>\n    </tr>\n  </tbody>\n</table>\n</div>"
     },
     "execution_count": 5,
     "metadata": {},
     "output_type": "execute_result"
    }
   ],
   "source": [
    "df.sample(1)"
   ],
   "metadata": {
    "collapsed": false
   }
  },
  {
   "cell_type": "code",
   "execution_count": 6,
   "outputs": [
    {
     "name": "stdout",
     "output_type": "stream",
     "text": [
      "19687\n",
      "19687\n"
     ]
    }
   ],
   "source": [
    "articles = df['text'].values\n",
    "labels = df['labels'].values\n",
    "\n",
    "print(len(labels))\n",
    "print(len(articles))"
   ],
   "metadata": {
    "collapsed": false
   }
  },
  {
   "cell_type": "code",
   "execution_count": 7,
   "outputs": [
    {
     "name": "stdout",
     "output_type": "stream",
     "text": [
      "15749\n",
      "15749\n",
      "15749\n",
      "3938\n",
      "3938\n"
     ]
    }
   ],
   "source": [
    "train_size = int(len(articles) * training_portion)\n",
    "\n",
    "train_articles = articles[0: train_size]\n",
    "train_labels = labels[0: train_size]\n",
    "\n",
    "validation_articles = articles[train_size:]\n",
    "validation_labels = labels[train_size:]\n",
    "\n",
    "print(train_size)\n",
    "print(len(train_articles))\n",
    "print(len(train_labels))\n",
    "print(len(validation_articles))\n",
    "print(len(validation_labels))"
   ],
   "metadata": {
    "collapsed": false
   }
  },
  {
   "cell_type": "code",
   "execution_count": 8,
   "metadata": {},
   "outputs": [],
   "source": [
    "tokenizer = Tokenizer(num_words = vocab_size, oov_token=oov_tok)\n",
    "tokenizer.fit_on_texts(articles)\n",
    "word_index = tokenizer.word_index"
   ]
  },
  {
   "cell_type": "markdown",
   "metadata": {},
   "source": [
    "You can see that \"OOV\" in bracket is number 1, \"said\" is number 2, \"mr\" is number 3, and so on."
   ]
  },
  {
   "cell_type": "code",
   "execution_count": 9,
   "metadata": {
    "scrolled": false
   },
   "outputs": [
    {
     "data": {
      "text/plain": "{'<OOV>': 1,\n 'i': 2,\n 'to': 3,\n 'and': 4,\n 'the': 5,\n 'a': 6,\n 'my': 7,\n 'of': 8,\n 'it': 9,\n 'me': 10}"
     },
     "execution_count": 9,
     "metadata": {},
     "output_type": "execute_result"
    }
   ],
   "source": [
    "dict(list(word_index.items())[0:10])"
   ]
  },
  {
   "cell_type": "markdown",
   "metadata": {},
   "source": [
    "This process cleans up our text, lowercase, and remove punctuations."
   ]
  },
  {
   "cell_type": "markdown",
   "metadata": {},
   "source": [
    "After tokenization, the next step is to turn thoes tokens into lists of sequence."
   ]
  },
  {
   "cell_type": "code",
   "execution_count": 10,
   "metadata": {},
   "outputs": [],
   "source": [
    "train_sequences = tokenizer.texts_to_sequences(train_articles)"
   ]
  },
  {
   "cell_type": "markdown",
   "metadata": {},
   "source": [
    "This is the 11th article in the training data that has been turned into sequences."
   ]
  },
  {
   "cell_type": "code",
   "execution_count": 11,
   "metadata": {
    "scrolled": false
   },
   "outputs": [
    {
     "name": "stdout",
     "output_type": "stream",
     "text": [
      "[55, 83, 626, 1016, 3584, 58, 140, 22, 931, 32, 83, 119, 1873, 97, 16, 386, 99, 626, 551, 6, 427, 1577, 3584, 27, 32, 83, 70, 626, 6, 1577, 3584, 4, 1148, 3, 1388, 659, 111, 50, 3, 11, 1449, 1577, 729]\n"
     ]
    }
   ],
   "source": [
    "print(train_sequences[10])"
   ]
  },
  {
   "cell_type": "markdown",
   "metadata": {},
   "source": [
    "When we train neural networks for NLP, we need sequences to be in the same size, that's why we use padding. Our max_length is 200, so we use pad_sequences to make all of our articles the same length which is 200 in my example. That's why you see that the 1st article was 426 in length, becomes 200, the 2nd article was 192 in length, becomes 200, and so on."
   ]
  },
  {
   "cell_type": "code",
   "execution_count": 12,
   "metadata": {},
   "outputs": [],
   "source": [
    "train_padded = pad_sequences(train_sequences, maxlen=max_length, padding=padding_type, truncating=trunc_type)"
   ]
  },
  {
   "cell_type": "code",
   "execution_count": 13,
   "metadata": {},
   "outputs": [
    {
     "name": "stdout",
     "output_type": "stream",
     "text": [
      "93\n",
      "200\n",
      "21\n",
      "200\n",
      "43\n",
      "200\n"
     ]
    }
   ],
   "source": [
    "print(len(train_sequences[0]))\n",
    "print(len(train_padded[0]))\n",
    "\n",
    "print(len(train_sequences[1]))\n",
    "print(len(train_padded[1]))\n",
    "\n",
    "print(len(train_sequences[10]))\n",
    "print(len(train_padded[10]))"
   ]
  },
  {
   "cell_type": "markdown",
   "metadata": {},
   "source": [
    "In addtion, there is padding type and truncating type, there are all \"post\". Means for example, for the 11th article, it was 186 in length, we padded to 200, and we padded at the end, add 14 zeros."
   ]
  },
  {
   "cell_type": "code",
   "execution_count": 14,
   "metadata": {},
   "outputs": [
    {
     "name": "stdout",
     "output_type": "stream",
     "text": [
      "[55, 83, 626, 1016, 3584, 58, 140, 22, 931, 32, 83, 119, 1873, 97, 16, 386, 99, 626, 551, 6, 427, 1577, 3584, 27, 32, 83, 70, 626, 6, 1577, 3584, 4, 1148, 3, 1388, 659, 111, 50, 3, 11, 1449, 1577, 729]\n"
     ]
    }
   ],
   "source": [
    "print(train_sequences[10])"
   ]
  },
  {
   "cell_type": "code",
   "execution_count": 15,
   "metadata": {},
   "outputs": [
    {
     "name": "stdout",
     "output_type": "stream",
     "text": [
      "[  55   83  626 1016 3584   58  140   22  931   32   83  119 1873   97\n",
      "   16  386   99  626  551    6  427 1577 3584   27   32   83   70  626\n",
      "    6 1577 3584    4 1148    3 1388  659  111   50    3   11 1449 1577\n",
      "  729    0    0    0    0    0    0    0    0    0    0    0    0    0\n",
      "    0    0    0    0    0    0    0    0    0    0    0    0    0    0\n",
      "    0    0    0    0    0    0    0    0    0    0    0    0    0    0\n",
      "    0    0    0    0    0    0    0    0    0    0    0    0    0    0\n",
      "    0    0    0    0    0    0    0    0    0    0    0    0    0    0\n",
      "    0    0    0    0    0    0    0    0    0    0    0    0    0    0\n",
      "    0    0    0    0    0    0    0    0    0    0    0    0    0    0\n",
      "    0    0    0    0    0    0    0    0    0    0    0    0    0    0\n",
      "    0    0    0    0    0    0    0    0    0    0    0    0    0    0\n",
      "    0    0    0    0    0    0    0    0    0    0    0    0    0    0\n",
      "    0    0    0    0    0    0    0    0    0    0    0    0    0    0\n",
      "    0    0    0    0]\n"
     ]
    }
   ],
   "source": [
    "print(train_padded[10])"
   ]
  },
  {
   "cell_type": "markdown",
   "metadata": {},
   "source": [
    "And for the 1st article, it was 426 in length, we truncated to 200, and we truncated at the end."
   ]
  },
  {
   "cell_type": "code",
   "execution_count": 16,
   "metadata": {},
   "outputs": [
    {
     "name": "stdout",
     "output_type": "stream",
     "text": [
      "[4690, 46, 3, 5, 1530, 555, 11, 13, 2245, 140, 16, 13, 10, 82, 45, 10, 265, 96, 138, 136, 82, 320, 7, 392, 14, 6, 241, 140, 2, 47, 1522, 2, 52, 26, 68, 3529, 127, 15, 86, 13, 94, 1, 571, 31, 73, 230, 3, 85, 3, 113, 139, 92, 1954, 1009, 50, 108, 368, 794, 75, 2020, 1237, 288, 368, 363, 270, 3, 277, 23, 6, 648, 73, 15, 451, 9, 202, 119, 63, 281, 65, 63, 1380, 376, 3922, 75, 232, 4, 73, 563, 206, 1003, 33, 5, 56]\n"
     ]
    }
   ],
   "source": [
    "print(train_sequences[0])"
   ]
  },
  {
   "cell_type": "code",
   "execution_count": 17,
   "metadata": {},
   "outputs": [
    {
     "name": "stdout",
     "output_type": "stream",
     "text": [
      "[4690   46    3    5 1530  555   11   13 2245  140   16   13   10   82\n",
      "   45   10  265   96  138  136   82  320    7  392   14    6  241  140\n",
      "    2   47 1522    2   52   26   68 3529  127   15   86   13   94    1\n",
      "  571   31   73  230    3   85    3  113  139   92 1954 1009   50  108\n",
      "  368  794   75 2020 1237  288  368  363  270    3  277   23    6  648\n",
      "   73   15  451    9  202  119   63  281   65   63 1380  376 3922   75\n",
      "  232    4   73  563  206 1003   33    5   56    0    0    0    0    0\n",
      "    0    0    0    0    0    0    0    0    0    0    0    0    0    0\n",
      "    0    0    0    0    0    0    0    0    0    0    0    0    0    0\n",
      "    0    0    0    0    0    0    0    0    0    0    0    0    0    0\n",
      "    0    0    0    0    0    0    0    0    0    0    0    0    0    0\n",
      "    0    0    0    0    0    0    0    0    0    0    0    0    0    0\n",
      "    0    0    0    0    0    0    0    0    0    0    0    0    0    0\n",
      "    0    0    0    0    0    0    0    0    0    0    0    0    0    0\n",
      "    0    0    0    0]\n"
     ]
    }
   ],
   "source": [
    "print(train_padded[0])"
   ]
  },
  {
   "cell_type": "markdown",
   "metadata": {},
   "source": [
    "Then we do the same for the validation sequences. Note that we should expect more out of vocabulary words from validation articles because word index were derived from the training articles."
   ]
  },
  {
   "cell_type": "code",
   "execution_count": 18,
   "metadata": {},
   "outputs": [
    {
     "name": "stdout",
     "output_type": "stream",
     "text": [
      "3938\n",
      "(3938, 200)\n"
     ]
    }
   ],
   "source": [
    "validation_sequences = tokenizer.texts_to_sequences(validation_articles)\n",
    "validation_padded = pad_sequences(validation_sequences, maxlen=max_length, padding=padding_type, truncating=trunc_type)\n",
    "\n",
    "print(len(validation_sequences))\n",
    "print(validation_padded.shape)"
   ]
  },
  {
   "cell_type": "markdown",
   "metadata": {},
   "source": [
    "Now we are going to look at the labels. because our labels are text, so we will tokenize them, when training, labels are expected to be numpy arrays. So we will turn list of labels into numpy arrays like so:"
   ]
  },
  {
   "cell_type": "code",
   "execution_count": 19,
   "metadata": {},
   "outputs": [
    {
     "name": "stdout",
     "output_type": "stream",
     "text": [
      "{'depression', 'schizophrenia', 'BPD', 'autism', 'bipolar', 'Anxiety'}\n"
     ]
    }
   ],
   "source": [
    "print(set(labels))"
   ]
  },
  {
   "cell_type": "code",
   "execution_count": 20,
   "metadata": {},
   "outputs": [],
   "source": [
    "label_tokenizer = Tokenizer()\n",
    "label_tokenizer.fit_on_texts(labels)\n",
    "\n",
    "training_label_seq = np.array(label_tokenizer.texts_to_sequences(train_labels))\n",
    "validation_label_seq = np.array(label_tokenizer.texts_to_sequences(validation_labels))"
   ]
  },
  {
   "cell_type": "code",
   "execution_count": 21,
   "metadata": {},
   "outputs": [
    {
     "name": "stdout",
     "output_type": "stream",
     "text": [
      "[2]\n",
      "[2]\n",
      "[2]\n",
      "(15749, 1)\n",
      "[6]\n",
      "[6]\n",
      "[6]\n",
      "(3938, 1)\n"
     ]
    }
   ],
   "source": [
    "print(training_label_seq[0])\n",
    "print(training_label_seq[1])\n",
    "print(training_label_seq[2])\n",
    "print(training_label_seq.shape)\n",
    "\n",
    "print(validation_label_seq[0])\n",
    "print(validation_label_seq[1])\n",
    "print(validation_label_seq[2])\n",
    "print(validation_label_seq.shape)"
   ]
  },
  {
   "cell_type": "markdown",
   "metadata": {},
   "source": [
    "Before training deep neural network, we want to explore what our original article and article after padding look like. Running the following code, we explore the 11th article, we can see that some words become \"OOV\", because they did not make to the top 5,000."
   ]
  },
  {
   "cell_type": "code",
   "execution_count": 22,
   "metadata": {},
   "outputs": [
    {
     "name": "stdout",
     "output_type": "stream",
     "text": [
      "had anyone noticed memory decline from depression just curious if anyone else affected by this problem also noticed quite a big cognitive decline or if anyone has noticed a cognitive decline and managed to build themselves back up to that previous cognitive level ? ? ? ? ? ? ? ? ? ? ? ? ? ? ? ? ? ? ? ? ? ? ? ? ? ? ? ? ? ? ? ? ? ? ? ? ? ? ? ? ? ? ? ? ? ? ? ? ? ? ? ? ? ? ? ? ? ? ? ? ? ? ? ? ? ? ? ? ? ? ? ? ? ? ? ? ? ? ? ? ? ? ? ? ? ? ? ? ? ? ? ? ? ? ? ? ? ? ? ? ? ? ? ? ? ? ? ? ? ? ? ? ? ? ? ? ? ? ? ? ? ? ? ? ? ? ? ? ? ? ? ? ? ? ? ? ? ? ? ? ? ? ? ? ? ? ? ? ? ? ? ? ? ? ? ? ?\n",
      "---\n",
      "Had anyone noticed memory decline from depression?Just curious if anyone else affected by this problem also noticed quite a big cognitive decline. Or if anyone has noticed a cognitive decline and managed to build themselves back up to that previous cognitive level.\n"
     ]
    }
   ],
   "source": [
    "reverse_word_index = dict([(value, key) for (key, value) in word_index.items()])\n",
    "\n",
    "def decode_article(text):\n",
    "    return ' '.join([reverse_word_index.get(i, '?') for i in text])\n",
    "print(decode_article(train_padded[10]))\n",
    "print('---')\n",
    "print(train_articles[10])"
   ]
  },
  {
   "cell_type": "markdown",
   "metadata": {},
   "source": [
    "Now we can implement LSTM. Here is my code that I build a tf.keras.Sequential model and start with an embedding layer. An embedding layer stores one vector per word. When called, it converts the sequences of word indices into sequences of vectors. After training, words with similar meanings often have the similar vectors.\n",
    "\n",
    "Next is how to implement LSTM in code. The Bidirectional wrapper is used with a LSTM layer, this propagates the input forwards and backwards through the LSTM layer and then concatenates the outputs. This helps LSTM to learn long term dependencies. We then fit it to a dense neural network to do classification.\n",
    "\n",
    "This index-lookup is much more efficient than the equivalent operation of passing a one-hot encoded vector through a tf.keras.layers.Dense layer."
   ]
  },
  {
   "cell_type": "code",
   "execution_count": 23,
   "metadata": {},
   "outputs": [
    {
     "name": "stdout",
     "output_type": "stream",
     "text": [
      "Model: \"sequential\"\n",
      "_________________________________________________________________\n",
      " Layer (type)                Output Shape              Param #   \n",
      "=================================================================\n",
      " embedding (Embedding)       (None, None, 64)          320000    \n",
      "                                                                 \n",
      " bidirectional (Bidirectiona  (None, 128)              66048     \n",
      " l)                                                              \n",
      "                                                                 \n",
      " dense (Dense)               (None, 64)                8256      \n",
      "                                                                 \n",
      " dense_1 (Dense)             (None, 7)                 455       \n",
      "                                                                 \n",
      "=================================================================\n",
      "Total params: 394,759\n",
      "Trainable params: 394,759\n",
      "Non-trainable params: 0\n",
      "_________________________________________________________________\n"
     ]
    }
   ],
   "source": [
    "model = tf.keras.Sequential([\n",
    "    # Add an Embedding layer expecting input vocab of size 5000, and output embedding dimension of size 64 we set at the top\n",
    "    tf.keras.layers.Embedding(vocab_size, embedding_dim),\n",
    "    tf.keras.layers.Bidirectional(tf.keras.layers.LSTM(embedding_dim, kernel_regularizer=l2(0.01), recurrent_regularizer=l2(0.01), bias_regularizer=l2(0.01))),\n",
    "#    tf.keras.layers.Bidirectional(tf.keras.layers.LSTM(32)),\n",
    "    # use ReLU in place of tanh function since they are very good alternatives of each other.\n",
    "    tf.keras.layers.Dense(embedding_dim, activation='relu'),\n",
    "    # Add a Dense layer with 6 units and softmax activation.\n",
    "    # When we have multiple outputs, softmax convert outputs layers into a probability distribution.\n",
    "    tf.keras.layers.Dense(7, activation='softmax')\n",
    "])\n",
    "model.summary()"
   ]
  },
  {
   "cell_type": "markdown",
   "metadata": {},
   "source": [
    "In our model summay, we have our embeddings, our Bidirectional contains LSTM, followed by two dense layers. The output from Bidirectional is 128, because it doubled what we put in LSTM. We can also stack LSTM layer but I found the results worse."
   ]
  },
  {
   "cell_type": "code",
   "execution_count": 26,
   "metadata": {},
   "outputs": [],
   "source": [
    "model.compile(optimizer=tf.keras.optimizers.Adam(learning_rate=0.001),\n",
    "              loss=tf.keras.losses.SparseCategoricalCrossentropy(),\n",
    "              metrics=['accuracy'])"
   ]
  },
  {
   "cell_type": "code",
   "execution_count": 28,
   "outputs": [],
   "source": [
    "callback = tf.keras.callbacks.EarlyStopping(monitor='loss', patience=3, restore_best_weights= True)"
   ],
   "metadata": {
    "collapsed": false
   }
  },
  {
   "cell_type": "code",
   "execution_count": 29,
   "metadata": {},
   "outputs": [
    {
     "name": "stdout",
     "output_type": "stream",
     "text": [
      "Epoch 1/100\n",
      "493/493 - 48s - loss: 1.0869 - accuracy: 0.5955 - val_loss: 1.3421 - val_accuracy: 0.5274 - 48s/epoch - 97ms/step\n",
      "Epoch 2/100\n",
      "493/493 - 47s - loss: 0.9418 - accuracy: 0.6670 - val_loss: 1.2364 - val_accuracy: 0.6013 - 47s/epoch - 96ms/step\n",
      "Epoch 3/100\n",
      "493/493 - 48s - loss: 0.8604 - accuracy: 0.7030 - val_loss: 1.3416 - val_accuracy: 0.5665 - 48s/epoch - 97ms/step\n",
      "Epoch 4/100\n",
      "493/493 - 47s - loss: 0.8046 - accuracy: 0.7273 - val_loss: 1.3448 - val_accuracy: 0.5818 - 47s/epoch - 96ms/step\n",
      "Epoch 5/100\n",
      "493/493 - 47s - loss: 0.7607 - accuracy: 0.7502 - val_loss: 1.4347 - val_accuracy: 0.5843 - 47s/epoch - 96ms/step\n",
      "Epoch 6/100\n",
      "493/493 - 48s - loss: 0.7289 - accuracy: 0.7626 - val_loss: 1.4438 - val_accuracy: 0.5726 - 48s/epoch - 97ms/step\n",
      "Epoch 7/100\n",
      "493/493 - 47s - loss: 0.6953 - accuracy: 0.7814 - val_loss: 1.3518 - val_accuracy: 0.6059 - 47s/epoch - 96ms/step\n",
      "Epoch 8/100\n",
      "493/493 - 47s - loss: 0.6642 - accuracy: 0.7935 - val_loss: 1.5886 - val_accuracy: 0.5653 - 47s/epoch - 96ms/step\n",
      "Epoch 9/100\n",
      "493/493 - 47s - loss: 0.6322 - accuracy: 0.8078 - val_loss: 1.5523 - val_accuracy: 0.5861 - 47s/epoch - 96ms/step\n",
      "Epoch 10/100\n",
      "493/493 - 49s - loss: 0.6069 - accuracy: 0.8197 - val_loss: 1.5527 - val_accuracy: 0.5901 - 49s/epoch - 99ms/step\n",
      "Epoch 11/100\n",
      "493/493 - 64s - loss: 0.5749 - accuracy: 0.8340 - val_loss: 1.6483 - val_accuracy: 0.5851 - 64s/epoch - 129ms/step\n",
      "Epoch 12/100\n",
      "493/493 - 55s - loss: 0.5541 - accuracy: 0.8425 - val_loss: 1.7346 - val_accuracy: 0.5846 - 55s/epoch - 111ms/step\n",
      "Epoch 13/100\n",
      "493/493 - 41s - loss: 0.5274 - accuracy: 0.8512 - val_loss: 1.6297 - val_accuracy: 0.6112 - 41s/epoch - 84ms/step\n",
      "Epoch 14/100\n",
      "493/493 - 44s - loss: 0.5015 - accuracy: 0.8658 - val_loss: 1.7516 - val_accuracy: 0.5901 - 44s/epoch - 89ms/step\n",
      "Epoch 15/100\n",
      "493/493 - 43s - loss: 0.4815 - accuracy: 0.8694 - val_loss: 1.8518 - val_accuracy: 0.6097 - 43s/epoch - 88ms/step\n",
      "Epoch 16/100\n",
      "493/493 - 43s - loss: 0.4674 - accuracy: 0.8764 - val_loss: 1.9703 - val_accuracy: 0.5884 - 43s/epoch - 87ms/step\n",
      "Epoch 17/100\n",
      "493/493 - 43s - loss: 0.4389 - accuracy: 0.8864 - val_loss: 2.0422 - val_accuracy: 0.5736 - 43s/epoch - 88ms/step\n",
      "Epoch 18/100\n",
      "493/493 - 45s - loss: 0.4209 - accuracy: 0.8931 - val_loss: 1.8595 - val_accuracy: 0.6056 - 45s/epoch - 91ms/step\n",
      "Epoch 19/100\n",
      "493/493 - 45s - loss: 0.3988 - accuracy: 0.8997 - val_loss: 1.9739 - val_accuracy: 0.5990 - 45s/epoch - 91ms/step\n",
      "Epoch 20/100\n",
      "493/493 - 47s - loss: 0.3897 - accuracy: 0.9043 - val_loss: 2.0035 - val_accuracy: 0.5909 - 47s/epoch - 95ms/step\n",
      "Epoch 21/100\n",
      "493/493 - 48s - loss: 0.3815 - accuracy: 0.9063 - val_loss: 2.1299 - val_accuracy: 0.5962 - 48s/epoch - 97ms/step\n",
      "Epoch 22/100\n",
      "493/493 - 49s - loss: 0.3678 - accuracy: 0.9115 - val_loss: 2.1125 - val_accuracy: 0.5896 - 49s/epoch - 99ms/step\n",
      "Epoch 23/100\n",
      "493/493 - 60s - loss: 0.3460 - accuracy: 0.9183 - val_loss: 2.3303 - val_accuracy: 0.5782 - 60s/epoch - 121ms/step\n",
      "Epoch 24/100\n",
      "493/493 - 71s - loss: 0.3360 - accuracy: 0.9229 - val_loss: 2.1617 - val_accuracy: 0.5985 - 71s/epoch - 144ms/step\n",
      "Epoch 25/100\n",
      "493/493 - 56s - loss: 0.3325 - accuracy: 0.9214 - val_loss: 2.3650 - val_accuracy: 0.5797 - 56s/epoch - 114ms/step\n",
      "Epoch 26/100\n",
      "493/493 - 42s - loss: 0.3107 - accuracy: 0.9296 - val_loss: 2.6310 - val_accuracy: 0.5711 - 42s/epoch - 84ms/step\n",
      "Epoch 27/100\n",
      "493/493 - 42s - loss: 0.3004 - accuracy: 0.9323 - val_loss: 2.4881 - val_accuracy: 0.5795 - 42s/epoch - 84ms/step\n",
      "Epoch 28/100\n",
      "493/493 - 43s - loss: 0.3000 - accuracy: 0.9331 - val_loss: 2.5129 - val_accuracy: 0.5929 - 43s/epoch - 87ms/step\n",
      "Epoch 29/100\n",
      "493/493 - 46s - loss: 0.2898 - accuracy: 0.9348 - val_loss: 2.7651 - val_accuracy: 0.5660 - 46s/epoch - 92ms/step\n",
      "Epoch 30/100\n",
      "493/493 - 48s - loss: 0.2865 - accuracy: 0.9342 - val_loss: 2.4101 - val_accuracy: 0.5891 - 48s/epoch - 96ms/step\n",
      "Epoch 31/100\n",
      "493/493 - 49s - loss: 0.2839 - accuracy: 0.9377 - val_loss: 2.4983 - val_accuracy: 0.5980 - 49s/epoch - 99ms/step\n",
      "Epoch 32/100\n",
      "493/493 - 49s - loss: 0.2712 - accuracy: 0.9395 - val_loss: 2.7138 - val_accuracy: 0.5604 - 49s/epoch - 100ms/step\n",
      "Epoch 33/100\n",
      "493/493 - 51s - loss: 0.2728 - accuracy: 0.9409 - val_loss: 2.8629 - val_accuracy: 0.5650 - 51s/epoch - 104ms/step\n",
      "Epoch 34/100\n",
      "493/493 - 52s - loss: 0.2482 - accuracy: 0.9481 - val_loss: 2.7482 - val_accuracy: 0.5835 - 52s/epoch - 105ms/step\n",
      "Epoch 35/100\n",
      "493/493 - 49s - loss: 0.2435 - accuracy: 0.9510 - val_loss: 3.0923 - val_accuracy: 0.5582 - 49s/epoch - 99ms/step\n",
      "Epoch 36/100\n",
      "493/493 - 48s - loss: 0.2433 - accuracy: 0.9499 - val_loss: 2.7925 - val_accuracy: 0.5838 - 48s/epoch - 98ms/step\n",
      "Epoch 37/100\n",
      "493/493 - 51s - loss: 0.2467 - accuracy: 0.9471 - val_loss: 2.9496 - val_accuracy: 0.5767 - 51s/epoch - 104ms/step\n",
      "Epoch 38/100\n",
      "493/493 - 51s - loss: 0.2573 - accuracy: 0.9439 - val_loss: 2.7005 - val_accuracy: 0.5861 - 51s/epoch - 102ms/step\n",
      "Epoch 39/100\n",
      "493/493 - 51s - loss: 0.2479 - accuracy: 0.9471 - val_loss: 2.8784 - val_accuracy: 0.5868 - 51s/epoch - 104ms/step\n",
      "Epoch 40/100\n",
      "493/493 - 50s - loss: 0.2161 - accuracy: 0.9573 - val_loss: 2.7860 - val_accuracy: 0.6056 - 50s/epoch - 102ms/step\n",
      "Epoch 41/100\n",
      "493/493 - 51s - loss: 0.2192 - accuracy: 0.9567 - val_loss: 3.2000 - val_accuracy: 0.5655 - 51s/epoch - 103ms/step\n",
      "Epoch 42/100\n",
      "493/493 - 51s - loss: 0.2273 - accuracy: 0.9526 - val_loss: 3.0142 - val_accuracy: 0.5625 - 51s/epoch - 104ms/step\n",
      "Epoch 43/100\n",
      "493/493 - 51s - loss: 0.2115 - accuracy: 0.9585 - val_loss: 3.1144 - val_accuracy: 0.5810 - 51s/epoch - 104ms/step\n",
      "Epoch 44/100\n",
      "493/493 - 53s - loss: 0.2096 - accuracy: 0.9592 - val_loss: 3.1077 - val_accuracy: 0.5780 - 53s/epoch - 107ms/step\n",
      "Epoch 45/100\n",
      "493/493 - 54s - loss: 0.2149 - accuracy: 0.9544 - val_loss: 2.9916 - val_accuracy: 0.5876 - 54s/epoch - 110ms/step\n",
      "Epoch 46/100\n",
      "493/493 - 53s - loss: 0.2080 - accuracy: 0.9590 - val_loss: 3.1986 - val_accuracy: 0.5721 - 53s/epoch - 108ms/step\n",
      "Epoch 47/100\n",
      "493/493 - 53s - loss: 0.1988 - accuracy: 0.9590 - val_loss: 3.5684 - val_accuracy: 0.5447 - 53s/epoch - 107ms/step\n",
      "Epoch 48/100\n",
      "493/493 - 50s - loss: 0.2015 - accuracy: 0.9598 - val_loss: 3.3221 - val_accuracy: 0.5731 - 50s/epoch - 101ms/step\n",
      "Epoch 49/100\n",
      "493/493 - 50s - loss: 0.2010 - accuracy: 0.9587 - val_loss: 3.3723 - val_accuracy: 0.5650 - 50s/epoch - 101ms/step\n",
      "Epoch 50/100\n",
      "493/493 - 50s - loss: 0.1866 - accuracy: 0.9643 - val_loss: 3.4447 - val_accuracy: 0.5678 - 50s/epoch - 100ms/step\n",
      "Epoch 51/100\n",
      "493/493 - 57s - loss: 0.1944 - accuracy: 0.9604 - val_loss: 3.3781 - val_accuracy: 0.5741 - 57s/epoch - 117ms/step\n",
      "Epoch 52/100\n",
      "493/493 - 62s - loss: 0.1898 - accuracy: 0.9616 - val_loss: 3.4135 - val_accuracy: 0.5708 - 62s/epoch - 125ms/step\n",
      "Epoch 53/100\n",
      "493/493 - 59s - loss: 0.2001 - accuracy: 0.9599 - val_loss: 3.3520 - val_accuracy: 0.5716 - 59s/epoch - 119ms/step\n",
      "Epoch 54/100\n",
      "493/493 - 55s - loss: 0.1840 - accuracy: 0.9648 - val_loss: 3.4568 - val_accuracy: 0.5780 - 55s/epoch - 112ms/step\n",
      "Epoch 55/100\n",
      "493/493 - 50s - loss: 0.1824 - accuracy: 0.9636 - val_loss: 3.5281 - val_accuracy: 0.5752 - 50s/epoch - 102ms/step\n",
      "Epoch 56/100\n",
      "493/493 - 47s - loss: 0.1707 - accuracy: 0.9682 - val_loss: 3.5086 - val_accuracy: 0.5833 - 47s/epoch - 96ms/step\n",
      "Epoch 57/100\n",
      "493/493 - 47s - loss: 0.1680 - accuracy: 0.9688 - val_loss: 3.6855 - val_accuracy: 0.5665 - 47s/epoch - 95ms/step\n",
      "Epoch 58/100\n",
      "493/493 - 47s - loss: 0.2010 - accuracy: 0.9592 - val_loss: 3.4644 - val_accuracy: 0.5721 - 47s/epoch - 95ms/step\n",
      "Epoch 59/100\n",
      "493/493 - 47s - loss: 0.1807 - accuracy: 0.9641 - val_loss: 3.7240 - val_accuracy: 0.5617 - 47s/epoch - 96ms/step\n",
      "Epoch 60/100\n",
      "493/493 - 47s - loss: 0.1704 - accuracy: 0.9665 - val_loss: 3.8231 - val_accuracy: 0.5549 - 47s/epoch - 96ms/step\n",
      "Epoch 61/100\n",
      "493/493 - 50s - loss: 0.1599 - accuracy: 0.9707 - val_loss: 4.0554 - val_accuracy: 0.5559 - 50s/epoch - 102ms/step\n",
      "Epoch 62/100\n",
      "493/493 - 42s - loss: 0.1803 - accuracy: 0.9656 - val_loss: 3.7288 - val_accuracy: 0.5754 - 42s/epoch - 85ms/step\n",
      "Epoch 63/100\n",
      "493/493 - 44s - loss: 0.1836 - accuracy: 0.9659 - val_loss: 3.7159 - val_accuracy: 0.5681 - 44s/epoch - 88ms/step\n",
      "Epoch 64/100\n",
      "493/493 - 45s - loss: 0.1759 - accuracy: 0.9646 - val_loss: 3.8122 - val_accuracy: 0.5648 - 45s/epoch - 91ms/step\n",
      "Epoch 65/100\n",
      "493/493 - 46s - loss: 0.1605 - accuracy: 0.9698 - val_loss: 3.8714 - val_accuracy: 0.5574 - 46s/epoch - 92ms/step\n",
      "Epoch 66/100\n",
      "493/493 - 46s - loss: 0.1610 - accuracy: 0.9698 - val_loss: 4.0168 - val_accuracy: 0.5630 - 46s/epoch - 93ms/step\n",
      "Epoch 67/100\n",
      "493/493 - 48s - loss: 0.1623 - accuracy: 0.9705 - val_loss: 4.0643 - val_accuracy: 0.5477 - 48s/epoch - 97ms/step\n",
      "Epoch 68/100\n",
      "493/493 - 52s - loss: 0.1848 - accuracy: 0.9630 - val_loss: 3.9270 - val_accuracy: 0.5686 - 52s/epoch - 106ms/step\n",
      "Epoch 69/100\n",
      "493/493 - 51s - loss: 0.1608 - accuracy: 0.9693 - val_loss: 3.9447 - val_accuracy: 0.5632 - 51s/epoch - 103ms/step\n",
      "Epoch 70/100\n",
      "493/493 - 48s - loss: 0.1468 - accuracy: 0.9743 - val_loss: 4.0345 - val_accuracy: 0.5675 - 48s/epoch - 98ms/step\n",
      "Epoch 71/100\n",
      "493/493 - 49s - loss: 0.1737 - accuracy: 0.9648 - val_loss: 4.5011 - val_accuracy: 0.5310 - 49s/epoch - 99ms/step\n",
      "Epoch 72/100\n",
      "493/493 - 57s - loss: 0.1733 - accuracy: 0.9679 - val_loss: 4.1689 - val_accuracy: 0.5551 - 57s/epoch - 116ms/step\n",
      "Epoch 73/100\n",
      "493/493 - 53s - loss: 0.1673 - accuracy: 0.9673 - val_loss: 4.0999 - val_accuracy: 0.5533 - 53s/epoch - 107ms/step\n",
      "Epoch 74/100\n",
      "493/493 - 53s - loss: 0.1642 - accuracy: 0.9692 - val_loss: 4.3289 - val_accuracy: 0.5477 - 53s/epoch - 108ms/step\n",
      "Epoch 75/100\n",
      "493/493 - 53s - loss: 0.1631 - accuracy: 0.9695 - val_loss: 4.3041 - val_accuracy: 0.5615 - 53s/epoch - 107ms/step\n",
      "Epoch 76/100\n",
      "493/493 - 52s - loss: 0.1437 - accuracy: 0.9743 - val_loss: 4.1035 - val_accuracy: 0.5719 - 52s/epoch - 105ms/step\n",
      "Epoch 77/100\n",
      "493/493 - 54s - loss: 0.1501 - accuracy: 0.9719 - val_loss: 4.2110 - val_accuracy: 0.5569 - 54s/epoch - 109ms/step\n",
      "Epoch 78/100\n",
      "493/493 - 55s - loss: 0.1400 - accuracy: 0.9757 - val_loss: 4.2965 - val_accuracy: 0.5536 - 55s/epoch - 111ms/step\n",
      "Epoch 79/100\n",
      "493/493 - 58s - loss: 0.1558 - accuracy: 0.9721 - val_loss: 4.0564 - val_accuracy: 0.5808 - 58s/epoch - 118ms/step\n",
      "Epoch 80/100\n",
      "493/493 - 63s - loss: 0.1955 - accuracy: 0.9601 - val_loss: 4.0765 - val_accuracy: 0.5678 - 63s/epoch - 127ms/step\n",
      "Epoch 81/100\n",
      "493/493 - 63s - loss: 0.1564 - accuracy: 0.9707 - val_loss: 4.1178 - val_accuracy: 0.5640 - 63s/epoch - 129ms/step\n",
      "Epoch 82/100\n",
      "493/493 - 62s - loss: 0.1459 - accuracy: 0.9727 - val_loss: 4.2042 - val_accuracy: 0.5637 - 62s/epoch - 126ms/step\n",
      "Epoch 83/100\n",
      "493/493 - 61s - loss: 0.1416 - accuracy: 0.9755 - val_loss: 4.1692 - val_accuracy: 0.5703 - 61s/epoch - 123ms/step\n",
      "Epoch 84/100\n",
      "493/493 - 54s - loss: 0.1468 - accuracy: 0.9722 - val_loss: 4.4476 - val_accuracy: 0.5279 - 54s/epoch - 109ms/step\n",
      "Epoch 85/100\n",
      "493/493 - 52s - loss: 0.1591 - accuracy: 0.9703 - val_loss: 4.7195 - val_accuracy: 0.5338 - 52s/epoch - 105ms/step\n",
      "Epoch 86/100\n",
      "493/493 - 55s - loss: 0.1750 - accuracy: 0.9667 - val_loss: 4.6672 - val_accuracy: 0.5381 - 55s/epoch - 111ms/step\n",
      "Epoch 87/100\n",
      "493/493 - 52s - loss: 0.1323 - accuracy: 0.9764 - val_loss: 4.4057 - val_accuracy: 0.5513 - 52s/epoch - 106ms/step\n",
      "Epoch 88/100\n",
      "493/493 - 56s - loss: 0.1418 - accuracy: 0.9741 - val_loss: 4.5157 - val_accuracy: 0.5566 - 56s/epoch - 114ms/step\n",
      "Epoch 89/100\n",
      "493/493 - 47s - loss: 0.1774 - accuracy: 0.9643 - val_loss: 4.4550 - val_accuracy: 0.5587 - 47s/epoch - 96ms/step\n",
      "Epoch 90/100\n",
      "493/493 - 45s - loss: 0.1476 - accuracy: 0.9735 - val_loss: 3.9496 - val_accuracy: 0.5681 - 45s/epoch - 92ms/step\n",
      "Epoch 91/100\n",
      "493/493 - 45s - loss: 0.1306 - accuracy: 0.9771 - val_loss: 4.3451 - val_accuracy: 0.5615 - 45s/epoch - 92ms/step\n",
      "Epoch 92/100\n",
      "493/493 - 45s - loss: 0.1304 - accuracy: 0.9768 - val_loss: 4.3858 - val_accuracy: 0.5688 - 45s/epoch - 91ms/step\n",
      "Epoch 93/100\n",
      "493/493 - 49s - loss: 0.1422 - accuracy: 0.9750 - val_loss: 4.8153 - val_accuracy: 0.5310 - 49s/epoch - 98ms/step\n",
      "Epoch 94/100\n",
      "493/493 - 51s - loss: 0.1639 - accuracy: 0.9669 - val_loss: 4.4790 - val_accuracy: 0.5615 - 51s/epoch - 104ms/step\n",
      "Epoch 95/100\n",
      "493/493 - 49s - loss: 0.1318 - accuracy: 0.9781 - val_loss: 4.3622 - val_accuracy: 0.5670 - 49s/epoch - 99ms/step\n",
      "Epoch 96/100\n",
      "493/493 - 48s - loss: 0.1384 - accuracy: 0.9751 - val_loss: 4.4533 - val_accuracy: 0.5693 - 48s/epoch - 97ms/step\n",
      "Epoch 97/100\n",
      "493/493 - 48s - loss: 0.1691 - accuracy: 0.9672 - val_loss: 4.4347 - val_accuracy: 0.5561 - 48s/epoch - 98ms/step\n",
      "Epoch 98/100\n",
      "493/493 - 50s - loss: 0.1399 - accuracy: 0.9740 - val_loss: 4.5911 - val_accuracy: 0.5594 - 50s/epoch - 101ms/step\n",
      "Epoch 99/100\n",
      "493/493 - 54s - loss: 0.1376 - accuracy: 0.9755 - val_loss: 4.6580 - val_accuracy: 0.5566 - 54s/epoch - 109ms/step\n",
      "Epoch 100/100\n",
      "493/493 - 52s - loss: 0.1522 - accuracy: 0.9716 - val_loss: 4.5927 - val_accuracy: 0.5513 - 52s/epoch - 106ms/step\n"
     ]
    }
   ],
   "source": [
    "num_epochs = 100\n",
    "history = model.fit(train_padded, training_label_seq, epochs=num_epochs, validation_data=(validation_padded, validation_label_seq), verbose=2)"
   ]
  },
  {
   "cell_type": "code",
   "execution_count": 30,
   "metadata": {},
   "outputs": [
    {
     "data": {
      "text/plain": "<Figure size 640x480 with 1 Axes>",
      "image/png": "[encoded data removed]"
     },
     "metadata": {},
     "output_type": "display_data"
    },
    {
     "data": {
      "text/plain": "<Figure size 640x480 with 1 Axes>",
      "image/png": "[encoded data removed]"
     },
     "metadata": {},
     "output_type": "display_data"
    }
   ],
   "source": [
    "def plot_graphs(history, string):\n",
    "  plt.plot(history.history[string])\n",
    "  plt.plot(history.history['val_'+string])\n",
    "  plt.xlabel(\"Epochs\")\n",
    "  plt.ylabel(string)\n",
    "  plt.legend([string, 'val_'+string])\n",
    "  plt.show()\n",
    "  \n",
    "plot_graphs(history, \"accuracy\")\n",
    "plot_graphs(history, \"loss\")"
   ]
  },
  {
   "cell_type": "code",
   "execution_count": 45,
   "outputs": [
    {
     "data": {
      "text/plain": "[\"I expect I'll get crucified for this..but I'll say what I think and see..I work as a nurse in a psych ward. Point being I know bpd  and have far more of it than I confess or any one at work knows.\\n\\nBpd people van since others the same, we know each other and have understanding....\\n\\nEveryone says those with bpd have issues  they are attention sellers  they just manipulate people.. \\n\\nWell guess what... There wrong ... those with bpd, the ones I have met are sensitive  they think fast, they can walk into a room and know straight away. Those they like and those to avoid.. they are more empathetic than people realise  even themselves.. :) they are the best friends to have. They are honest beyond belief, sure we can change  our moods,  but it comes from being sensitive and hyper vigilant..\\n\\nDo you know those with bpd also have a deep strength  we have complicated pasts and we fight...we always fight back.\\n\\nYpu have many good qualities but we deny ourselves of this...\\n\\nAll I am saying is don't give up on yourself.. we understand each other..\"]"
     },
     "execution_count": 45,
     "metadata": {},
     "output_type": "execute_result"
    }
   ],
   "source": [
    "txt = df.sample(1, random_state= 42)['text'].values\n",
    "\n",
    "text = [txt[0]]"
   ],
   "metadata": {
    "collapsed": false
   }
  },
  {
   "cell_type": "code",
   "execution_count": 50,
   "metadata": {},
   "outputs": [
    {
     "name": "stdout",
     "output_type": "stream",
     "text": [
      "1/1 [==============================] - 0s 33ms/step\n",
      "[[4.7706319e-08 2.0675467e-01 1.9698320e-02 5.0645262e-01 1.8453985e-01\n",
      "  2.3190770e-03 8.0235422e-02]] autism\n"
     ]
    }
   ],
   "source": [
    "seq = tokenizer.texts_to_sequences(text)\n",
    "padded = pad_sequences(seq, maxlen=max_length)\n",
    "pred = model.predict(padded)\n",
    "\n",
    "labels = list(set(df['labels'].values))\n",
    "print(pred, labels[np.argmax(pred)])"
   ]
  }
 ],
 "metadata": {
  "kernelspec": {
   "display_name": "Python 3",
   "language": "python",
   "name": "python3"
  },
  "language_info": {
   "codemirror_mode": {
    "name": "ipython",
    "version": 3
   },
   "file_extension": ".py",
   "mimetype": "text/x-python",
   "name": "python",
   "nbconvert_exporter": "python",
   "pygments_lexer": "ipython3",
   "version": "3.6.7"
  }
 },
 "nbformat": 4,
 "nbformat_minor": 2
}
